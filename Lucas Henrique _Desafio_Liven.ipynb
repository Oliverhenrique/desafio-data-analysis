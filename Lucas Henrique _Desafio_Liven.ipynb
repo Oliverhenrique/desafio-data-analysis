{
 "cells": [
  {
   "cell_type": "code",
   "execution_count": 1,
   "id": "c234e92f",
   "metadata": {},
   "outputs": [],
   "source": [
    "import pandas as pd\n",
    "import matplotlib.pyplot as plt\n",
    "import numpy as np\n",
    "import seaborn as sns"
   ]
  },
  {
   "cell_type": "code",
   "execution_count": 2,
   "id": "8bf458e3",
   "metadata": {},
   "outputs": [],
   "source": [
    "# Crregando os datasets\n",
    "\n",
    "\n",
    "dados_partida = pd.read_csv(\"campeonato-brasileiro-full.csv\")\n",
    "\n",
    "estatisticas = pd.read_csv(\"campeonato-brasileiro-estatisticas-full.csv\")\n",
    "\n",
    "cartoes = pd.read_csv(\"campeonato-brasileiro-cartoes.csv\")\n",
    "\n",
    "gols = pd.read_csv(\"campeonato-brasileiro-gols.csv\")"
   ]
  },
  {
   "cell_type": "markdown",
   "id": "eb6eb9db",
   "metadata": {},
   "source": [
    "# Atividade 1"
   ]
  },
  {
   "cell_type": "markdown",
   "id": "46aee782",
   "metadata": {},
   "source": [
    "### Visualização e limpeza"
   ]
  },
  {
   "cell_type": "markdown",
   "id": "71429c08",
   "metadata": {},
   "source": [
    "#### Campeonato Brasileiro Full: dados_partida"
   ]
  },
  {
   "cell_type": "code",
   "execution_count": 3,
   "id": "cdc6a366",
   "metadata": {
    "scrolled": false
   },
   "outputs": [
    {
     "data": {
      "text/html": [
       "<div>\n",
       "<style scoped>\n",
       "    .dataframe tbody tr th:only-of-type {\n",
       "        vertical-align: middle;\n",
       "    }\n",
       "\n",
       "    .dataframe tbody tr th {\n",
       "        vertical-align: top;\n",
       "    }\n",
       "\n",
       "    .dataframe thead th {\n",
       "        text-align: right;\n",
       "    }\n",
       "</style>\n",
       "<table border=\"1\" class=\"dataframe\">\n",
       "  <thead>\n",
       "    <tr style=\"text-align: right;\">\n",
       "      <th></th>\n",
       "      <th>ID</th>\n",
       "      <th>rodata</th>\n",
       "      <th>data</th>\n",
       "      <th>hora</th>\n",
       "      <th>mandante</th>\n",
       "      <th>visitante</th>\n",
       "      <th>formacao_mandante</th>\n",
       "      <th>formacao_visitante</th>\n",
       "      <th>tecnico_mandante</th>\n",
       "      <th>tecnico_visitante</th>\n",
       "      <th>vencedor</th>\n",
       "      <th>arena</th>\n",
       "      <th>mandante_Placar</th>\n",
       "      <th>visitante_Placar</th>\n",
       "      <th>mandante_Estado</th>\n",
       "      <th>visitante_Estado</th>\n",
       "    </tr>\n",
       "  </thead>\n",
       "  <tbody>\n",
       "    <tr>\n",
       "      <th>0</th>\n",
       "      <td>1</td>\n",
       "      <td>1</td>\n",
       "      <td>29/03/2003</td>\n",
       "      <td>16:00</td>\n",
       "      <td>Guarani</td>\n",
       "      <td>Vasco</td>\n",
       "      <td>NaN</td>\n",
       "      <td>NaN</td>\n",
       "      <td>NaN</td>\n",
       "      <td>NaN</td>\n",
       "      <td>Guarani</td>\n",
       "      <td>Brinco de Ouro</td>\n",
       "      <td>4</td>\n",
       "      <td>2</td>\n",
       "      <td>SP</td>\n",
       "      <td>RJ</td>\n",
       "    </tr>\n",
       "    <tr>\n",
       "      <th>1</th>\n",
       "      <td>2</td>\n",
       "      <td>1</td>\n",
       "      <td>29/03/2003</td>\n",
       "      <td>16:00</td>\n",
       "      <td>Athletico-PR</td>\n",
       "      <td>Gremio</td>\n",
       "      <td>NaN</td>\n",
       "      <td>NaN</td>\n",
       "      <td>NaN</td>\n",
       "      <td>NaN</td>\n",
       "      <td>Athletico-PR</td>\n",
       "      <td>Arena da Baixada</td>\n",
       "      <td>2</td>\n",
       "      <td>0</td>\n",
       "      <td>PR</td>\n",
       "      <td>RS</td>\n",
       "    </tr>\n",
       "    <tr>\n",
       "      <th>2</th>\n",
       "      <td>3</td>\n",
       "      <td>1</td>\n",
       "      <td>30/03/2003</td>\n",
       "      <td>16:00</td>\n",
       "      <td>Flamengo</td>\n",
       "      <td>Coritiba</td>\n",
       "      <td>NaN</td>\n",
       "      <td>NaN</td>\n",
       "      <td>NaN</td>\n",
       "      <td>NaN</td>\n",
       "      <td>-</td>\n",
       "      <td>Maracanã</td>\n",
       "      <td>1</td>\n",
       "      <td>1</td>\n",
       "      <td>RJ</td>\n",
       "      <td>PR</td>\n",
       "    </tr>\n",
       "    <tr>\n",
       "      <th>3</th>\n",
       "      <td>4</td>\n",
       "      <td>1</td>\n",
       "      <td>30/03/2003</td>\n",
       "      <td>16:00</td>\n",
       "      <td>Goias</td>\n",
       "      <td>Paysandu</td>\n",
       "      <td>NaN</td>\n",
       "      <td>NaN</td>\n",
       "      <td>NaN</td>\n",
       "      <td>NaN</td>\n",
       "      <td>-</td>\n",
       "      <td>Serra Dourada</td>\n",
       "      <td>2</td>\n",
       "      <td>2</td>\n",
       "      <td>GO</td>\n",
       "      <td>PA</td>\n",
       "    </tr>\n",
       "    <tr>\n",
       "      <th>4</th>\n",
       "      <td>5</td>\n",
       "      <td>1</td>\n",
       "      <td>30/03/2003</td>\n",
       "      <td>16:00</td>\n",
       "      <td>Internacional</td>\n",
       "      <td>Ponte Preta</td>\n",
       "      <td>NaN</td>\n",
       "      <td>NaN</td>\n",
       "      <td>NaN</td>\n",
       "      <td>NaN</td>\n",
       "      <td>-</td>\n",
       "      <td>Beira Rio</td>\n",
       "      <td>1</td>\n",
       "      <td>1</td>\n",
       "      <td>RS</td>\n",
       "      <td>SP</td>\n",
       "    </tr>\n",
       "  </tbody>\n",
       "</table>\n",
       "</div>"
      ],
      "text/plain": [
       "   ID  rodata        data   hora       mandante    visitante  \\\n",
       "0   1       1  29/03/2003  16:00        Guarani        Vasco   \n",
       "1   2       1  29/03/2003  16:00   Athletico-PR       Gremio   \n",
       "2   3       1  30/03/2003  16:00       Flamengo     Coritiba   \n",
       "3   4       1  30/03/2003  16:00          Goias     Paysandu   \n",
       "4   5       1  30/03/2003  16:00  Internacional  Ponte Preta   \n",
       "\n",
       "  formacao_mandante formacao_visitante tecnico_mandante tecnico_visitante  \\\n",
       "0               NaN                NaN              NaN               NaN   \n",
       "1               NaN                NaN              NaN               NaN   \n",
       "2               NaN                NaN              NaN               NaN   \n",
       "3               NaN                NaN              NaN               NaN   \n",
       "4               NaN                NaN              NaN               NaN   \n",
       "\n",
       "       vencedor              arena  mandante_Placar  visitante_Placar  \\\n",
       "0       Guarani     Brinco de Ouro                4                 2   \n",
       "1  Athletico-PR   Arena da Baixada                2                 0   \n",
       "2             -           Maracanã                1                 1   \n",
       "3             -      Serra Dourada                2                 2   \n",
       "4             -          Beira Rio                1                 1   \n",
       "\n",
       "  mandante_Estado visitante_Estado  \n",
       "0              SP               RJ  \n",
       "1              PR               RS  \n",
       "2              RJ               PR  \n",
       "3              GO               PA  \n",
       "4              RS               SP  "
      ]
     },
     "execution_count": 3,
     "metadata": {},
     "output_type": "execute_result"
    }
   ],
   "source": [
    "dados_partida.head()"
   ]
  },
  {
   "cell_type": "code",
   "execution_count": 4,
   "id": "67a40002",
   "metadata": {},
   "outputs": [
    {
     "data": {
      "text/plain": [
       "(8785, 16)"
      ]
     },
     "execution_count": 4,
     "metadata": {},
     "output_type": "execute_result"
    }
   ],
   "source": [
    "# Quantidade de registros antes da limpeza\n",
    "dados_partida.shape"
   ]
  },
  {
   "cell_type": "code",
   "execution_count": 5,
   "id": "973b0d65",
   "metadata": {},
   "outputs": [
    {
     "data": {
      "text/plain": [
       "ID                       0\n",
       "rodata                   0\n",
       "data                     0\n",
       "hora                     0\n",
       "mandante                 0\n",
       "visitante                0\n",
       "formacao_mandante     4975\n",
       "formacao_visitante    4975\n",
       "tecnico_mandante      4610\n",
       "tecnico_visitante     4610\n",
       "vencedor                 0\n",
       "arena                    0\n",
       "mandante_Placar          0\n",
       "visitante_Placar         0\n",
       "mandante_Estado          0\n",
       "visitante_Estado         0\n",
       "dtype: int64"
      ]
     },
     "execution_count": 5,
     "metadata": {},
     "output_type": "execute_result"
    }
   ],
   "source": [
    "# Contabilizando\n",
    "dados_partida.isnull().sum()"
   ]
  },
  {
   "cell_type": "code",
   "execution_count": 6,
   "id": "a5907d26",
   "metadata": {},
   "outputs": [],
   "source": [
    "# Cria uma função que substitui todos os tipos de valores que não são reconhecidos por isnull() no dataframe\n",
    "# para que possamos fazer a limpeza completa em todos os dataframes\n",
    "\n",
    "def padronizar_nulos(df):\n",
    "    nulos = ['None', 'none', 'NaN', 'nan', '', ' ', 'N/A', 'n/a', 'null', 'NULL', '-'] # lista de valores considerados\n",
    "    df_padronizado = df.replace(nulos, np.nan) # substitui em todas as colunas\n",
    "    return df_padronizado"
   ]
  },
  {
   "cell_type": "markdown",
   "id": "08c1e30e",
   "metadata": {},
   "source": [
    "#### O objetivo em criar a função é transformar todo tipo de valor que causa erros mas que não são reconhecidos pelas funções de reconhecimento do pandas para um tipo que possamos reconhecê-los e tratá-los."
   ]
  },
  {
   "cell_type": "code",
   "execution_count": 7,
   "id": "7298fc19",
   "metadata": {},
   "outputs": [],
   "source": [
    "# chamando a função e padronizando todos os tipos de erro\n",
    "dados_partida = padronizar_nulos(dados_partida)"
   ]
  },
  {
   "cell_type": "code",
   "execution_count": 8,
   "id": "2c7013f2",
   "metadata": {},
   "outputs": [
    {
     "data": {
      "text/plain": [
       "ID                       0\n",
       "rodata                   0\n",
       "data                     0\n",
       "hora                     0\n",
       "mandante                 0\n",
       "visitante                0\n",
       "formacao_mandante     4975\n",
       "formacao_visitante    4975\n",
       "tecnico_mandante      4610\n",
       "tecnico_visitante     4610\n",
       "vencedor              2322\n",
       "arena                    0\n",
       "mandante_Placar          0\n",
       "visitante_Placar         0\n",
       "mandante_Estado          0\n",
       "visitante_Estado         0\n",
       "dtype: int64"
      ]
     },
     "execution_count": 8,
     "metadata": {},
     "output_type": "execute_result"
    }
   ],
   "source": [
    "# Contabilizando após padronização\n",
    "dados_partida.isnull().sum()"
   ]
  },
  {
   "cell_type": "code",
   "execution_count": 9,
   "id": "8d0ed34b",
   "metadata": {},
   "outputs": [],
   "source": [
    "# Removendo registros com valores inválidos\n",
    "dados_partida = dados_partida.dropna()"
   ]
  },
  {
   "cell_type": "code",
   "execution_count": 10,
   "id": "771c1321",
   "metadata": {},
   "outputs": [
    {
     "data": {
      "text/plain": [
       "(2784, 16)"
      ]
     },
     "execution_count": 10,
     "metadata": {},
     "output_type": "execute_result"
    }
   ],
   "source": [
    "# Quantidade de registros após limpeza\n",
    "dados_partida.shape"
   ]
  },
  {
   "cell_type": "code",
   "execution_count": 11,
   "id": "6bc674d0",
   "metadata": {},
   "outputs": [
    {
     "data": {
      "text/html": [
       "<div>\n",
       "<style scoped>\n",
       "    .dataframe tbody tr th:only-of-type {\n",
       "        vertical-align: middle;\n",
       "    }\n",
       "\n",
       "    .dataframe tbody tr th {\n",
       "        vertical-align: top;\n",
       "    }\n",
       "\n",
       "    .dataframe thead th {\n",
       "        text-align: right;\n",
       "    }\n",
       "</style>\n",
       "<table border=\"1\" class=\"dataframe\">\n",
       "  <thead>\n",
       "    <tr style=\"text-align: right;\">\n",
       "      <th></th>\n",
       "      <th>ID</th>\n",
       "      <th>rodata</th>\n",
       "      <th>data</th>\n",
       "      <th>hora</th>\n",
       "      <th>mandante</th>\n",
       "      <th>visitante</th>\n",
       "      <th>formacao_mandante</th>\n",
       "      <th>formacao_visitante</th>\n",
       "      <th>tecnico_mandante</th>\n",
       "      <th>tecnico_visitante</th>\n",
       "      <th>vencedor</th>\n",
       "      <th>arena</th>\n",
       "      <th>mandante_Placar</th>\n",
       "      <th>visitante_Placar</th>\n",
       "      <th>mandante_Estado</th>\n",
       "      <th>visitante_Estado</th>\n",
       "    </tr>\n",
       "  </thead>\n",
       "  <tbody>\n",
       "    <tr>\n",
       "      <th>4729</th>\n",
       "      <td>4741</td>\n",
       "      <td>13</td>\n",
       "      <td>03/08/2014</td>\n",
       "      <td>16:00</td>\n",
       "      <td>Chapecoense</td>\n",
       "      <td>Flamengo</td>\n",
       "      <td>4-4-2</td>\n",
       "      <td>4-2-3-1</td>\n",
       "      <td>C. Rodrigues</td>\n",
       "      <td>V. Luxemburgo da Silva</td>\n",
       "      <td>Chapecoense</td>\n",
       "      <td>Arena Condá</td>\n",
       "      <td>1</td>\n",
       "      <td>0</td>\n",
       "      <td>SC</td>\n",
       "      <td>RJ</td>\n",
       "    </tr>\n",
       "    <tr>\n",
       "      <th>4797</th>\n",
       "      <td>4808</td>\n",
       "      <td>20</td>\n",
       "      <td>10/09/2014</td>\n",
       "      <td>19:30</td>\n",
       "      <td>Palmeiras</td>\n",
       "      <td>Criciuma</td>\n",
       "      <td>4-2-2-2</td>\n",
       "      <td>4-2-3-1</td>\n",
       "      <td>D. Silvestre Júnior</td>\n",
       "      <td>G. Dal Pozzo</td>\n",
       "      <td>Palmeiras</td>\n",
       "      <td>Estádio Municipal Paulo Machado de Carvalho</td>\n",
       "      <td>1</td>\n",
       "      <td>0</td>\n",
       "      <td>SP</td>\n",
       "      <td>SC</td>\n",
       "    </tr>\n",
       "    <tr>\n",
       "      <th>4821</th>\n",
       "      <td>4833</td>\n",
       "      <td>22</td>\n",
       "      <td>17/09/2014</td>\n",
       "      <td>22:00</td>\n",
       "      <td>Coritiba</td>\n",
       "      <td>Sao Paulo</td>\n",
       "      <td>4-3-2-1</td>\n",
       "      <td>4-4-2</td>\n",
       "      <td>M. dos Santos Gonçalves</td>\n",
       "      <td>M. Ramalho</td>\n",
       "      <td>Coritiba</td>\n",
       "      <td>Couto Pereira</td>\n",
       "      <td>3</td>\n",
       "      <td>1</td>\n",
       "      <td>PR</td>\n",
       "      <td>SP</td>\n",
       "    </tr>\n",
       "  </tbody>\n",
       "</table>\n",
       "</div>"
      ],
      "text/plain": [
       "        ID  rodata        data   hora     mandante  visitante  \\\n",
       "4729  4741      13  03/08/2014  16:00  Chapecoense   Flamengo   \n",
       "4797  4808      20  10/09/2014  19:30    Palmeiras   Criciuma   \n",
       "4821  4833      22  17/09/2014  22:00     Coritiba  Sao Paulo   \n",
       "\n",
       "     formacao_mandante formacao_visitante         tecnico_mandante  \\\n",
       "4729             4-4-2            4-2-3-1             C. Rodrigues   \n",
       "4797           4-2-2-2            4-2-3-1      D. Silvestre Júnior   \n",
       "4821           4-3-2-1              4-4-2  M. dos Santos Gonçalves   \n",
       "\n",
       "           tecnico_visitante     vencedor  \\\n",
       "4729  V. Luxemburgo da Silva  Chapecoense   \n",
       "4797            G. Dal Pozzo    Palmeiras   \n",
       "4821              M. Ramalho     Coritiba   \n",
       "\n",
       "                                            arena  mandante_Placar  \\\n",
       "4729                                  Arena Condá                1   \n",
       "4797  Estádio Municipal Paulo Machado de Carvalho                1   \n",
       "4821                                Couto Pereira                3   \n",
       "\n",
       "      visitante_Placar mandante_Estado visitante_Estado  \n",
       "4729                 0              SC               RJ  \n",
       "4797                 0              SP               SC  \n",
       "4821                 1              PR               SP  "
      ]
     },
     "execution_count": 11,
     "metadata": {},
     "output_type": "execute_result"
    }
   ],
   "source": [
    "# Visualizando\n",
    "dados_partida.head(3)"
   ]
  },
  {
   "cell_type": "markdown",
   "id": "012e4403",
   "metadata": {},
   "source": [
    "#### Campeonato Brasileiro Estatísticas:  estatisticas"
   ]
  },
  {
   "cell_type": "code",
   "execution_count": 12,
   "id": "7bcbaa60",
   "metadata": {},
   "outputs": [
    {
     "data": {
      "text/html": [
       "<div>\n",
       "<style scoped>\n",
       "    .dataframe tbody tr th:only-of-type {\n",
       "        vertical-align: middle;\n",
       "    }\n",
       "\n",
       "    .dataframe tbody tr th {\n",
       "        vertical-align: top;\n",
       "    }\n",
       "\n",
       "    .dataframe thead th {\n",
       "        text-align: right;\n",
       "    }\n",
       "</style>\n",
       "<table border=\"1\" class=\"dataframe\">\n",
       "  <thead>\n",
       "    <tr style=\"text-align: right;\">\n",
       "      <th></th>\n",
       "      <th>partida_id</th>\n",
       "      <th>rodata</th>\n",
       "      <th>clube</th>\n",
       "      <th>chutes</th>\n",
       "      <th>chutes_no_alvo</th>\n",
       "      <th>posse_de_bola</th>\n",
       "      <th>passes</th>\n",
       "      <th>precisao_passes</th>\n",
       "      <th>faltas</th>\n",
       "      <th>cartao_amarelo</th>\n",
       "      <th>cartao_vermelho</th>\n",
       "      <th>impedimentos</th>\n",
       "      <th>escanteios</th>\n",
       "    </tr>\n",
       "  </thead>\n",
       "  <tbody>\n",
       "    <tr>\n",
       "      <th>0</th>\n",
       "      <td>1</td>\n",
       "      <td>1</td>\n",
       "      <td>Vasco</td>\n",
       "      <td>0</td>\n",
       "      <td>0</td>\n",
       "      <td>NaN</td>\n",
       "      <td>0</td>\n",
       "      <td>NaN</td>\n",
       "      <td>0</td>\n",
       "      <td>0</td>\n",
       "      <td>0</td>\n",
       "      <td>0</td>\n",
       "      <td>0</td>\n",
       "    </tr>\n",
       "    <tr>\n",
       "      <th>1</th>\n",
       "      <td>1</td>\n",
       "      <td>1</td>\n",
       "      <td>Guarani</td>\n",
       "      <td>0</td>\n",
       "      <td>0</td>\n",
       "      <td>NaN</td>\n",
       "      <td>0</td>\n",
       "      <td>NaN</td>\n",
       "      <td>0</td>\n",
       "      <td>0</td>\n",
       "      <td>0</td>\n",
       "      <td>0</td>\n",
       "      <td>0</td>\n",
       "    </tr>\n",
       "    <tr>\n",
       "      <th>2</th>\n",
       "      <td>2</td>\n",
       "      <td>1</td>\n",
       "      <td>Athletico-PR</td>\n",
       "      <td>0</td>\n",
       "      <td>0</td>\n",
       "      <td>NaN</td>\n",
       "      <td>0</td>\n",
       "      <td>NaN</td>\n",
       "      <td>0</td>\n",
       "      <td>0</td>\n",
       "      <td>0</td>\n",
       "      <td>0</td>\n",
       "      <td>0</td>\n",
       "    </tr>\n",
       "    <tr>\n",
       "      <th>3</th>\n",
       "      <td>2</td>\n",
       "      <td>1</td>\n",
       "      <td>Gremio</td>\n",
       "      <td>0</td>\n",
       "      <td>0</td>\n",
       "      <td>NaN</td>\n",
       "      <td>0</td>\n",
       "      <td>NaN</td>\n",
       "      <td>0</td>\n",
       "      <td>0</td>\n",
       "      <td>0</td>\n",
       "      <td>0</td>\n",
       "      <td>0</td>\n",
       "    </tr>\n",
       "    <tr>\n",
       "      <th>4</th>\n",
       "      <td>3</td>\n",
       "      <td>1</td>\n",
       "      <td>Flamengo</td>\n",
       "      <td>0</td>\n",
       "      <td>0</td>\n",
       "      <td>NaN</td>\n",
       "      <td>0</td>\n",
       "      <td>NaN</td>\n",
       "      <td>0</td>\n",
       "      <td>0</td>\n",
       "      <td>0</td>\n",
       "      <td>0</td>\n",
       "      <td>0</td>\n",
       "    </tr>\n",
       "  </tbody>\n",
       "</table>\n",
       "</div>"
      ],
      "text/plain": [
       "   partida_id  rodata         clube  chutes  chutes_no_alvo posse_de_bola  \\\n",
       "0           1       1         Vasco       0               0           NaN   \n",
       "1           1       1       Guarani       0               0           NaN   \n",
       "2           2       1  Athletico-PR       0               0           NaN   \n",
       "3           2       1        Gremio       0               0           NaN   \n",
       "4           3       1      Flamengo       0               0           NaN   \n",
       "\n",
       "   passes precisao_passes  faltas  cartao_amarelo  cartao_vermelho  \\\n",
       "0       0             NaN       0               0                0   \n",
       "1       0             NaN       0               0                0   \n",
       "2       0             NaN       0               0                0   \n",
       "3       0             NaN       0               0                0   \n",
       "4       0             NaN       0               0                0   \n",
       "\n",
       "   impedimentos  escanteios  \n",
       "0             0           0  \n",
       "1             0           0  \n",
       "2             0           0  \n",
       "3             0           0  \n",
       "4             0           0  "
      ]
     },
     "execution_count": 12,
     "metadata": {},
     "output_type": "execute_result"
    }
   ],
   "source": [
    "# Visualizando o dataframe\n",
    "estatisticas.head()"
   ]
  },
  {
   "cell_type": "code",
   "execution_count": 13,
   "id": "a970b214",
   "metadata": {},
   "outputs": [
    {
     "data": {
      "text/plain": [
       "(17570, 13)"
      ]
     },
     "execution_count": 13,
     "metadata": {},
     "output_type": "execute_result"
    }
   ],
   "source": [
    "# quatidade de registros antes da limpeza\n",
    "estatisticas.shape"
   ]
  },
  {
   "cell_type": "code",
   "execution_count": 14,
   "id": "d7fa16f9",
   "metadata": {},
   "outputs": [
    {
     "data": {
      "text/plain": [
       "partida_id            0\n",
       "rodata                0\n",
       "clube                 0\n",
       "chutes                0\n",
       "chutes_no_alvo        0\n",
       "posse_de_bola      9212\n",
       "passes                0\n",
       "precisao_passes    9212\n",
       "faltas                0\n",
       "cartao_amarelo        0\n",
       "cartao_vermelho       0\n",
       "impedimentos          0\n",
       "escanteios            0\n",
       "dtype: int64"
      ]
     },
     "execution_count": 14,
     "metadata": {},
     "output_type": "execute_result"
    }
   ],
   "source": [
    "# Contabilizando\n",
    "estatisticas.isnull().sum()"
   ]
  },
  {
   "cell_type": "code",
   "execution_count": 15,
   "id": "1fa1f283",
   "metadata": {},
   "outputs": [],
   "source": [
    "# Padronizando\n",
    "estatisticas = padronizar_nulos(estatisticas)"
   ]
  },
  {
   "cell_type": "code",
   "execution_count": 16,
   "id": "8c80183b",
   "metadata": {},
   "outputs": [
    {
     "data": {
      "text/plain": [
       "partida_id             0\n",
       "rodata                 0\n",
       "clube                  0\n",
       "chutes                 0\n",
       "chutes_no_alvo         0\n",
       "posse_de_bola      10750\n",
       "passes                 0\n",
       "precisao_passes    13058\n",
       "faltas                 0\n",
       "cartao_amarelo         0\n",
       "cartao_vermelho        0\n",
       "impedimentos           0\n",
       "escanteios             0\n",
       "dtype: int64"
      ]
     },
     "execution_count": 16,
     "metadata": {},
     "output_type": "execute_result"
    }
   ],
   "source": [
    "# Contabilizando\n",
    "estatisticas.isnull().sum()"
   ]
  },
  {
   "cell_type": "code",
   "execution_count": 17,
   "id": "64f01d87",
   "metadata": {},
   "outputs": [],
   "source": [
    "# Removendo registros inválidos\n",
    "estatisticas = estatisticas.dropna()"
   ]
  },
  {
   "cell_type": "code",
   "execution_count": 18,
   "id": "648918ca",
   "metadata": {},
   "outputs": [
    {
     "data": {
      "text/plain": [
       "(4512, 13)"
      ]
     },
     "execution_count": 18,
     "metadata": {},
     "output_type": "execute_result"
    }
   ],
   "source": [
    "# Quantidade de registros após limpeza\n",
    "estatisticas.shape"
   ]
  },
  {
   "cell_type": "code",
   "execution_count": 19,
   "id": "16c1b06a",
   "metadata": {},
   "outputs": [
    {
     "data": {
      "text/html": [
       "<div>\n",
       "<style scoped>\n",
       "    .dataframe tbody tr th:only-of-type {\n",
       "        vertical-align: middle;\n",
       "    }\n",
       "\n",
       "    .dataframe tbody tr th {\n",
       "        vertical-align: top;\n",
       "    }\n",
       "\n",
       "    .dataframe thead th {\n",
       "        text-align: right;\n",
       "    }\n",
       "</style>\n",
       "<table border=\"1\" class=\"dataframe\">\n",
       "  <thead>\n",
       "    <tr style=\"text-align: right;\">\n",
       "      <th></th>\n",
       "      <th>partida_id</th>\n",
       "      <th>rodata</th>\n",
       "      <th>clube</th>\n",
       "      <th>chutes</th>\n",
       "      <th>chutes_no_alvo</th>\n",
       "      <th>posse_de_bola</th>\n",
       "      <th>passes</th>\n",
       "      <th>precisao_passes</th>\n",
       "      <th>faltas</th>\n",
       "      <th>cartao_amarelo</th>\n",
       "      <th>cartao_vermelho</th>\n",
       "      <th>impedimentos</th>\n",
       "      <th>escanteios</th>\n",
       "    </tr>\n",
       "  </thead>\n",
       "  <tbody>\n",
       "    <tr>\n",
       "      <th>12250</th>\n",
       "      <td>6126</td>\n",
       "      <td>1</td>\n",
       "      <td>Gremio</td>\n",
       "      <td>6</td>\n",
       "      <td>2</td>\n",
       "      <td>60%</td>\n",
       "      <td>649</td>\n",
       "      <td>86%</td>\n",
       "      <td>15</td>\n",
       "      <td>1</td>\n",
       "      <td>1</td>\n",
       "      <td>3</td>\n",
       "      <td>4</td>\n",
       "    </tr>\n",
       "    <tr>\n",
       "      <th>12251</th>\n",
       "      <td>6126</td>\n",
       "      <td>1</td>\n",
       "      <td>Cruzeiro</td>\n",
       "      <td>12</td>\n",
       "      <td>2</td>\n",
       "      <td>40%</td>\n",
       "      <td>425</td>\n",
       "      <td>81%</td>\n",
       "      <td>20</td>\n",
       "      <td>3</td>\n",
       "      <td>0</td>\n",
       "      <td>0</td>\n",
       "      <td>7</td>\n",
       "    </tr>\n",
       "    <tr>\n",
       "      <th>12252</th>\n",
       "      <td>6127</td>\n",
       "      <td>1</td>\n",
       "      <td>Vitoria</td>\n",
       "      <td>21</td>\n",
       "      <td>6</td>\n",
       "      <td>66%</td>\n",
       "      <td>545</td>\n",
       "      <td>88%</td>\n",
       "      <td>24</td>\n",
       "      <td>3</td>\n",
       "      <td>0</td>\n",
       "      <td>2</td>\n",
       "      <td>4</td>\n",
       "    </tr>\n",
       "    <tr>\n",
       "      <th>12253</th>\n",
       "      <td>6127</td>\n",
       "      <td>1</td>\n",
       "      <td>Flamengo</td>\n",
       "      <td>10</td>\n",
       "      <td>5</td>\n",
       "      <td>34%</td>\n",
       "      <td>286</td>\n",
       "      <td>72%</td>\n",
       "      <td>10</td>\n",
       "      <td>2</td>\n",
       "      <td>1</td>\n",
       "      <td>2</td>\n",
       "      <td>5</td>\n",
       "    </tr>\n",
       "    <tr>\n",
       "      <th>12254</th>\n",
       "      <td>6128</td>\n",
       "      <td>1</td>\n",
       "      <td>Ceara</td>\n",
       "      <td>10</td>\n",
       "      <td>2</td>\n",
       "      <td>46%</td>\n",
       "      <td>472</td>\n",
       "      <td>85%</td>\n",
       "      <td>5</td>\n",
       "      <td>1</td>\n",
       "      <td>0</td>\n",
       "      <td>0</td>\n",
       "      <td>2</td>\n",
       "    </tr>\n",
       "  </tbody>\n",
       "</table>\n",
       "</div>"
      ],
      "text/plain": [
       "       partida_id  rodata     clube  chutes  chutes_no_alvo posse_de_bola  \\\n",
       "12250        6126       1    Gremio       6               2           60%   \n",
       "12251        6126       1  Cruzeiro      12               2           40%   \n",
       "12252        6127       1   Vitoria      21               6           66%   \n",
       "12253        6127       1  Flamengo      10               5           34%   \n",
       "12254        6128       1     Ceara      10               2           46%   \n",
       "\n",
       "       passes precisao_passes  faltas  cartao_amarelo  cartao_vermelho  \\\n",
       "12250     649             86%      15               1                1   \n",
       "12251     425             81%      20               3                0   \n",
       "12252     545             88%      24               3                0   \n",
       "12253     286             72%      10               2                1   \n",
       "12254     472             85%       5               1                0   \n",
       "\n",
       "       impedimentos  escanteios  \n",
       "12250             3           4  \n",
       "12251             0           7  \n",
       "12252             2           4  \n",
       "12253             2           5  \n",
       "12254             0           2  "
      ]
     },
     "execution_count": 19,
     "metadata": {},
     "output_type": "execute_result"
    }
   ],
   "source": [
    "# Visualizando\n",
    "estatisticas.head()"
   ]
  },
  {
   "cell_type": "markdown",
   "id": "d737770b",
   "metadata": {},
   "source": [
    "#### Campeonato Brasileiro Cartões: cartoes"
   ]
  },
  {
   "cell_type": "code",
   "execution_count": 20,
   "id": "dfc9669c",
   "metadata": {},
   "outputs": [
    {
     "data": {
      "text/html": [
       "<div>\n",
       "<style scoped>\n",
       "    .dataframe tbody tr th:only-of-type {\n",
       "        vertical-align: middle;\n",
       "    }\n",
       "\n",
       "    .dataframe tbody tr th {\n",
       "        vertical-align: top;\n",
       "    }\n",
       "\n",
       "    .dataframe thead th {\n",
       "        text-align: right;\n",
       "    }\n",
       "</style>\n",
       "<table border=\"1\" class=\"dataframe\">\n",
       "  <thead>\n",
       "    <tr style=\"text-align: right;\">\n",
       "      <th></th>\n",
       "      <th>partida_id</th>\n",
       "      <th>rodata</th>\n",
       "      <th>clube</th>\n",
       "      <th>cartao</th>\n",
       "      <th>atleta</th>\n",
       "      <th>num_camisa</th>\n",
       "      <th>posicao</th>\n",
       "      <th>minuto</th>\n",
       "    </tr>\n",
       "  </thead>\n",
       "  <tbody>\n",
       "    <tr>\n",
       "      <th>0</th>\n",
       "      <td>4607</td>\n",
       "      <td>1</td>\n",
       "      <td>Figueirense</td>\n",
       "      <td>Amarelo</td>\n",
       "      <td>Paulo Roberto da Silva</td>\n",
       "      <td>28.0</td>\n",
       "      <td>NaN</td>\n",
       "      <td>66</td>\n",
       "    </tr>\n",
       "    <tr>\n",
       "      <th>1</th>\n",
       "      <td>4607</td>\n",
       "      <td>1</td>\n",
       "      <td>Figueirense</td>\n",
       "      <td>Amarelo</td>\n",
       "      <td>Thiago Heleno</td>\n",
       "      <td>4.0</td>\n",
       "      <td>Zagueiro</td>\n",
       "      <td>44</td>\n",
       "    </tr>\n",
       "    <tr>\n",
       "      <th>2</th>\n",
       "      <td>4608</td>\n",
       "      <td>1</td>\n",
       "      <td>Internacional</td>\n",
       "      <td>Amarelo</td>\n",
       "      <td>Andrés D'Alessandro</td>\n",
       "      <td>10.0</td>\n",
       "      <td>Meio-campo</td>\n",
       "      <td>72</td>\n",
       "    </tr>\n",
       "    <tr>\n",
       "      <th>3</th>\n",
       "      <td>4608</td>\n",
       "      <td>1</td>\n",
       "      <td>Vitoria</td>\n",
       "      <td>Amarelo</td>\n",
       "      <td>Marcelo Machado dos Santos</td>\n",
       "      <td>29.0</td>\n",
       "      <td>NaN</td>\n",
       "      <td>86</td>\n",
       "    </tr>\n",
       "    <tr>\n",
       "      <th>4</th>\n",
       "      <td>4608</td>\n",
       "      <td>1</td>\n",
       "      <td>Vitoria</td>\n",
       "      <td>Amarelo</td>\n",
       "      <td>Mansur</td>\n",
       "      <td>NaN</td>\n",
       "      <td>Zagueiro</td>\n",
       "      <td>10</td>\n",
       "    </tr>\n",
       "  </tbody>\n",
       "</table>\n",
       "</div>"
      ],
      "text/plain": [
       "   partida_id  rodata          clube   cartao                      atleta  \\\n",
       "0        4607       1    Figueirense  Amarelo      Paulo Roberto da Silva   \n",
       "1        4607       1    Figueirense  Amarelo               Thiago Heleno   \n",
       "2        4608       1  Internacional  Amarelo         Andrés D'Alessandro   \n",
       "3        4608       1        Vitoria  Amarelo  Marcelo Machado dos Santos   \n",
       "4        4608       1        Vitoria  Amarelo                      Mansur   \n",
       "\n",
       "   num_camisa     posicao minuto  \n",
       "0        28.0         NaN     66  \n",
       "1         4.0    Zagueiro     44  \n",
       "2        10.0  Meio-campo     72  \n",
       "3        29.0         NaN     86  \n",
       "4         NaN    Zagueiro     10  "
      ]
     },
     "execution_count": 20,
     "metadata": {},
     "output_type": "execute_result"
    }
   ],
   "source": [
    "# Visualizando\n",
    "cartoes.head()"
   ]
  },
  {
   "cell_type": "code",
   "execution_count": 21,
   "id": "f7601292",
   "metadata": {},
   "outputs": [
    {
     "data": {
      "text/plain": [
       "(20953, 8)"
      ]
     },
     "execution_count": 21,
     "metadata": {},
     "output_type": "execute_result"
    }
   ],
   "source": [
    "# Quantidade de resgistros antes da limpeza\n",
    "cartoes.shape"
   ]
  },
  {
   "cell_type": "code",
   "execution_count": 22,
   "id": "152ffd9a",
   "metadata": {},
   "outputs": [
    {
     "data": {
      "text/plain": [
       "partida_id       0\n",
       "rodata           0\n",
       "clube            0\n",
       "cartao           0\n",
       "atleta           6\n",
       "num_camisa     386\n",
       "posicao       1198\n",
       "minuto           0\n",
       "dtype: int64"
      ]
     },
     "execution_count": 22,
     "metadata": {},
     "output_type": "execute_result"
    }
   ],
   "source": [
    "# Contabilizando registros inválidos antes da limpeza\n",
    "\n",
    "cartoes.isnull().sum()"
   ]
  },
  {
   "cell_type": "markdown",
   "id": "2e478680",
   "metadata": {},
   "source": [
    "#### Iremos excluir a coluna 'num_camisa' por ser irrelevante. Essa coluna representa o número da camisa do jogador penalizado, o que não é útil nas análises. Portanto, excluir registros de partidas apenas por conta disso significa apenas perda de informação."
   ]
  },
  {
   "cell_type": "code",
   "execution_count": 23,
   "id": "8eb25029",
   "metadata": {},
   "outputs": [],
   "source": [
    "# Excluindo coluna num_camisa\n",
    "cartoes = cartoes.drop(columns = ['num_camisa'])"
   ]
  },
  {
   "cell_type": "code",
   "execution_count": 24,
   "id": "f307e4d5",
   "metadata": {},
   "outputs": [],
   "source": [
    "# Padronizando registros inváidos\n",
    "\n",
    "cartoes = padronizar_nulos(cartoes)"
   ]
  },
  {
   "cell_type": "code",
   "execution_count": 25,
   "id": "2b31c2db",
   "metadata": {},
   "outputs": [
    {
     "data": {
      "text/plain": [
       "partida_id       0\n",
       "rodata           0\n",
       "clube            0\n",
       "cartao           0\n",
       "atleta           6\n",
       "posicao       1198\n",
       "minuto           0\n",
       "dtype: int64"
      ]
     },
     "execution_count": 25,
     "metadata": {},
     "output_type": "execute_result"
    }
   ],
   "source": [
    "# Contabilizando aopós padronização\n",
    "cartoes.isnull().sum()"
   ]
  },
  {
   "cell_type": "code",
   "execution_count": 26,
   "id": "0bb87e2d",
   "metadata": {},
   "outputs": [],
   "source": [
    "# Removendo registros inválidos\n",
    "\n",
    "cartoes = cartoes.dropna()"
   ]
  },
  {
   "cell_type": "code",
   "execution_count": 27,
   "id": "e941a191",
   "metadata": {},
   "outputs": [
    {
     "data": {
      "text/plain": [
       "(19749, 7)"
      ]
     },
     "execution_count": 27,
     "metadata": {},
     "output_type": "execute_result"
    }
   ],
   "source": [
    "# Quantidade de registros após limpeza\n",
    "\n",
    "cartoes.shape"
   ]
  },
  {
   "cell_type": "markdown",
   "id": "e023f985",
   "metadata": {},
   "source": [
    "#### Campeonato Brasileiro Gols: gols"
   ]
  },
  {
   "cell_type": "code",
   "execution_count": 28,
   "id": "67dfb74c",
   "metadata": {
    "scrolled": true
   },
   "outputs": [
    {
     "data": {
      "text/html": [
       "<div>\n",
       "<style scoped>\n",
       "    .dataframe tbody tr th:only-of-type {\n",
       "        vertical-align: middle;\n",
       "    }\n",
       "\n",
       "    .dataframe tbody tr th {\n",
       "        vertical-align: top;\n",
       "    }\n",
       "\n",
       "    .dataframe thead th {\n",
       "        text-align: right;\n",
       "    }\n",
       "</style>\n",
       "<table border=\"1\" class=\"dataframe\">\n",
       "  <thead>\n",
       "    <tr style=\"text-align: right;\">\n",
       "      <th></th>\n",
       "      <th>partida_id</th>\n",
       "      <th>rodata</th>\n",
       "      <th>clube</th>\n",
       "      <th>atleta</th>\n",
       "      <th>minuto</th>\n",
       "      <th>tipo_de_gol</th>\n",
       "    </tr>\n",
       "  </thead>\n",
       "  <tbody>\n",
       "    <tr>\n",
       "      <th>0</th>\n",
       "      <td>4607</td>\n",
       "      <td>1</td>\n",
       "      <td>Fluminense</td>\n",
       "      <td>Rafael Sóbis</td>\n",
       "      <td>31</td>\n",
       "      <td>NaN</td>\n",
       "    </tr>\n",
       "    <tr>\n",
       "      <th>1</th>\n",
       "      <td>4607</td>\n",
       "      <td>1</td>\n",
       "      <td>Fluminense</td>\n",
       "      <td>Nirley da Silva Fonseca</td>\n",
       "      <td>59</td>\n",
       "      <td>Gol Contra</td>\n",
       "    </tr>\n",
       "    <tr>\n",
       "      <th>2</th>\n",
       "      <td>4607</td>\n",
       "      <td>1</td>\n",
       "      <td>Fluminense</td>\n",
       "      <td>Fred</td>\n",
       "      <td>45</td>\n",
       "      <td>Penalty</td>\n",
       "    </tr>\n",
       "    <tr>\n",
       "      <th>3</th>\n",
       "      <td>4608</td>\n",
       "      <td>1</td>\n",
       "      <td>Internacional</td>\n",
       "      <td>Charles Aránguiz</td>\n",
       "      <td>6</td>\n",
       "      <td>NaN</td>\n",
       "    </tr>\n",
       "    <tr>\n",
       "      <th>4</th>\n",
       "      <td>4612</td>\n",
       "      <td>1</td>\n",
       "      <td>Cruzeiro</td>\n",
       "      <td>Nílton Ferreira Júnior</td>\n",
       "      <td>63</td>\n",
       "      <td>NaN</td>\n",
       "    </tr>\n",
       "  </tbody>\n",
       "</table>\n",
       "</div>"
      ],
      "text/plain": [
       "   partida_id  rodata          clube                   atleta minuto  \\\n",
       "0        4607       1     Fluminense             Rafael Sóbis     31   \n",
       "1        4607       1     Fluminense  Nirley da Silva Fonseca     59   \n",
       "2        4607       1     Fluminense                     Fred     45   \n",
       "3        4608       1  Internacional         Charles Aránguiz      6   \n",
       "4        4612       1       Cruzeiro   Nílton Ferreira Júnior     63   \n",
       "\n",
       "  tipo_de_gol  \n",
       "0         NaN  \n",
       "1  Gol Contra  \n",
       "2     Penalty  \n",
       "3         NaN  \n",
       "4         NaN  "
      ]
     },
     "execution_count": 28,
     "metadata": {},
     "output_type": "execute_result"
    }
   ],
   "source": [
    "# Visualizando\n",
    "gols.head()"
   ]
  },
  {
   "cell_type": "code",
   "execution_count": 29,
   "id": "34d6a9ae",
   "metadata": {},
   "outputs": [
    {
     "data": {
      "text/plain": [
       "(9861, 6)"
      ]
     },
     "execution_count": 29,
     "metadata": {},
     "output_type": "execute_result"
    }
   ],
   "source": [
    "# Quantidade de registros\n",
    "gols.shape"
   ]
  },
  {
   "cell_type": "code",
   "execution_count": 30,
   "id": "ec4c0049",
   "metadata": {},
   "outputs": [
    {
     "data": {
      "text/plain": [
       "partida_id        0\n",
       "rodata            0\n",
       "clube             0\n",
       "atleta            0\n",
       "minuto            0\n",
       "tipo_de_gol    8678\n",
       "dtype: int64"
      ]
     },
     "execution_count": 30,
     "metadata": {},
     "output_type": "execute_result"
    }
   ],
   "source": [
    "# Contabilizando antes da padronização\n",
    "gols.isnull().sum()"
   ]
  },
  {
   "cell_type": "code",
   "execution_count": 31,
   "id": "21e58dce",
   "metadata": {},
   "outputs": [
    {
     "data": {
      "text/plain": [
       "array([nan, 'Gol Contra', 'Penalty'], dtype=object)"
      ]
     },
     "execution_count": 31,
     "metadata": {},
     "output_type": "execute_result"
    }
   ],
   "source": [
    "gols['tipo_de_gol'].unique()"
   ]
  },
  {
   "cell_type": "code",
   "execution_count": 32,
   "id": "942dc467",
   "metadata": {},
   "outputs": [
    {
     "data": {
      "text/plain": [
       "88.00324510698712"
      ]
     },
     "execution_count": 32,
     "metadata": {},
     "output_type": "execute_result"
    }
   ],
   "source": [
    "# Verificando o percentual representativo \n",
    "\n",
    "(8678*100)/9861"
   ]
  },
  {
   "cell_type": "markdown",
   "id": "075c0e4a",
   "metadata": {},
   "source": [
    "#### A coluna 'tipo_de_gol' possui apenas dois tipos de valores válidos: Gol Contra e Penalty. É muito improvável que no campeonato brasileiro, nas edições consideradas nas bases de dados, tenha ocorrido somente esses dois tipos de gols. \n",
    "\n",
    "#### Adicionalmente, valores inválidos nesta coluna representam 88,00% do total, logo, excluir registros de partidas por conta de uma coluna da qual nada se pode inferir sobre ela significa apenas perda de informação relevante. Portanto, iremos excluir a coluna 'tipo_de_gol'"
   ]
  },
  {
   "cell_type": "code",
   "execution_count": 33,
   "id": "7cda2574",
   "metadata": {},
   "outputs": [],
   "source": [
    "# Excluindo a coluna tipo_de_gol\n",
    "\n",
    "gols = gols.drop(columns = ['tipo_de_gol'])"
   ]
  },
  {
   "cell_type": "code",
   "execution_count": 34,
   "id": "8f2635f9",
   "metadata": {},
   "outputs": [],
   "source": [
    "# Padronizando registros invalidos \n",
    "gols = padronizar_nulos(gols)"
   ]
  },
  {
   "cell_type": "code",
   "execution_count": 35,
   "id": "cfe0b971",
   "metadata": {},
   "outputs": [
    {
     "data": {
      "text/plain": [
       "partida_id    0\n",
       "rodata        0\n",
       "clube         0\n",
       "atleta        0\n",
       "minuto        0\n",
       "dtype: int64"
      ]
     },
     "execution_count": 35,
     "metadata": {},
     "output_type": "execute_result"
    }
   ],
   "source": [
    "# Contabiliozando após padronização\n",
    "gols.isnull().sum()"
   ]
  },
  {
   "cell_type": "code",
   "execution_count": 36,
   "id": "63292e7a",
   "metadata": {},
   "outputs": [],
   "source": [
    "# Removendo registros inválidos\n",
    "\n",
    "gols = gols.dropna()"
   ]
  },
  {
   "cell_type": "code",
   "execution_count": 37,
   "id": "44630aca",
   "metadata": {},
   "outputs": [
    {
     "data": {
      "text/plain": [
       "(9861, 5)"
      ]
     },
     "execution_count": 37,
     "metadata": {},
     "output_type": "execute_result"
    }
   ],
   "source": [
    "# Quantidade de registros após limpeza\n",
    "\n",
    "gols.shape"
   ]
  },
  {
   "cell_type": "code",
   "execution_count": 38,
   "id": "32ef2907",
   "metadata": {},
   "outputs": [],
   "source": [
    "# Correção de texto\n",
    "\n",
    "dados_partida.rename(columns={'rodata' : 'rodada', 'ID' : 'partida_id'}, inplace = True)\n",
    "estatisticas.rename(columns={'rodata' : 'rodada'}, inplace = True)\n",
    "cartoes.rename(columns={'rodata' : 'rodada'}, inplace = True)\n",
    "gols.rename(columns={'rodata' : 'rodada'}, inplace = True)"
   ]
  },
  {
   "cell_type": "markdown",
   "id": "d91cffae",
   "metadata": {},
   "source": [
    "## Filtrando os DataFrame's por id's de partidas em comum, mantendo apenas as partidas comuns a todos."
   ]
  },
  {
   "cell_type": "code",
   "execution_count": 39,
   "id": "9d0eaf94",
   "metadata": {},
   "outputs": [],
   "source": [
    "# Obtendo os ids comuns nos dataframe's\n",
    "\n",
    "ids_comuns = set(dados_partida['partida_id']) & set(estatisticas['partida_id']) & set(cartoes['partida_id']) & set(gols['partida_id'])"
   ]
  },
  {
   "cell_type": "code",
   "execution_count": 40,
   "id": "8ad66025",
   "metadata": {},
   "outputs": [],
   "source": [
    "# Filtrando os datafram's com a intersecção dos id's comuns das partidas\n",
    "\n",
    "dados_partida_filtrado = dados_partida[dados_partida['partida_id'].isin(ids_comuns)]\n",
    "estatisticas_filtrado = estatisticas[estatisticas['partida_id'].isin(ids_comuns)]\n",
    "cartoes_filtrado = cartoes[cartoes['partida_id'].isin(ids_comuns)]\n",
    "gols_filtrado = gols[gols['partida_id'].isin(ids_comuns)]"
   ]
  },
  {
   "cell_type": "markdown",
   "id": "596bfe21",
   "metadata": {},
   "source": [
    "# Atividadade 2"
   ]
  },
  {
   "cell_type": "code",
   "execution_count": 41,
   "id": "92a3b2ca",
   "metadata": {},
   "outputs": [],
   "source": [
    "# Criando a tabela com esttisticas do mandante\n",
    "\n",
    "estat_mandante = estatisticas_filtrado.rename(columns={'clube': 'mandante'})\n",
    "estat_mandante = estat_mandante.add_prefix('mandante_')\n",
    "estat_mandante = estat_mandante.rename(columns={'mandante_partida_id': 'partida_id', 'mandante_mandante': 'mandante'})"
   ]
  },
  {
   "cell_type": "code",
   "execution_count": 42,
   "id": "703746a2",
   "metadata": {},
   "outputs": [],
   "source": [
    "# Criando a tabela com estatisticas do visitante\n",
    "\n",
    "estat_visitante = estatisticas_filtrado.rename(columns={'clube': 'visitante'})\n",
    "estat_visitante = estat_visitante.add_prefix('visitante_')\n",
    "estat_visitante = estat_visitante.rename(columns={'visitante_partida_id': 'partida_id', 'visitante_visitante': 'visitante'})"
   ]
  },
  {
   "cell_type": "code",
   "execution_count": 43,
   "id": "b37600a5",
   "metadata": {},
   "outputs": [],
   "source": [
    "# Join com estatísticas do mandante\n",
    "dados_com_mandante = pd.merge(\n",
    "    dados_partida_filtrado,\n",
    "    estat_mandante,\n",
    "    on=['partida_id', 'mandante'],\n",
    "    how='inner'\n",
    ")\n",
    "\n",
    "# Join com estatísticas do visitante\n",
    "dados_completo = pd.merge(\n",
    "    dados_com_mandante,\n",
    "    estat_visitante,\n",
    "    on=['partida_id', 'visitante'],\n",
    "    how='inner'\n",
    ")"
   ]
  },
  {
   "cell_type": "code",
   "execution_count": 44,
   "id": "0a546197",
   "metadata": {},
   "outputs": [
    {
     "data": {
      "text/html": [
       "<div>\n",
       "<style scoped>\n",
       "    .dataframe tbody tr th:only-of-type {\n",
       "        vertical-align: middle;\n",
       "    }\n",
       "\n",
       "    .dataframe tbody tr th {\n",
       "        vertical-align: top;\n",
       "    }\n",
       "\n",
       "    .dataframe thead th {\n",
       "        text-align: right;\n",
       "    }\n",
       "</style>\n",
       "<table border=\"1\" class=\"dataframe\">\n",
       "  <thead>\n",
       "    <tr style=\"text-align: right;\">\n",
       "      <th></th>\n",
       "      <th>partida_id</th>\n",
       "      <th>rodada</th>\n",
       "      <th>data</th>\n",
       "      <th>hora</th>\n",
       "      <th>mandante</th>\n",
       "      <th>visitante</th>\n",
       "      <th>formacao_mandante</th>\n",
       "      <th>formacao_visitante</th>\n",
       "      <th>tecnico_mandante</th>\n",
       "      <th>tecnico_visitante</th>\n",
       "      <th>...</th>\n",
       "      <th>visitante_chutes</th>\n",
       "      <th>visitante_chutes_no_alvo</th>\n",
       "      <th>visitante_posse_de_bola</th>\n",
       "      <th>visitante_passes</th>\n",
       "      <th>visitante_precisao_passes</th>\n",
       "      <th>visitante_faltas</th>\n",
       "      <th>visitante_cartao_amarelo</th>\n",
       "      <th>visitante_cartao_vermelho</th>\n",
       "      <th>visitante_impedimentos</th>\n",
       "      <th>visitante_escanteios</th>\n",
       "    </tr>\n",
       "  </thead>\n",
       "  <tbody>\n",
       "    <tr>\n",
       "      <th>0</th>\n",
       "      <td>6126</td>\n",
       "      <td>1</td>\n",
       "      <td>14/04/2018</td>\n",
       "      <td>16:00</td>\n",
       "      <td>Cruzeiro</td>\n",
       "      <td>Gremio</td>\n",
       "      <td>4-2-3-1</td>\n",
       "      <td>4-2-3-1</td>\n",
       "      <td>L. Venker de Menezes</td>\n",
       "      <td>Renato Gaúcho</td>\n",
       "      <td>...</td>\n",
       "      <td>6</td>\n",
       "      <td>2</td>\n",
       "      <td>60%</td>\n",
       "      <td>649</td>\n",
       "      <td>86%</td>\n",
       "      <td>15</td>\n",
       "      <td>1</td>\n",
       "      <td>1</td>\n",
       "      <td>3</td>\n",
       "      <td>4</td>\n",
       "    </tr>\n",
       "    <tr>\n",
       "      <th>1</th>\n",
       "      <td>6128</td>\n",
       "      <td>1</td>\n",
       "      <td>14/04/2018</td>\n",
       "      <td>21:03</td>\n",
       "      <td>Santos</td>\n",
       "      <td>Ceara</td>\n",
       "      <td>4-3-3</td>\n",
       "      <td>4-1-4-1</td>\n",
       "      <td>J. Ribeiro Ventura</td>\n",
       "      <td>M. Oliveira Chamusca</td>\n",
       "      <td>...</td>\n",
       "      <td>10</td>\n",
       "      <td>2</td>\n",
       "      <td>46%</td>\n",
       "      <td>472</td>\n",
       "      <td>85%</td>\n",
       "      <td>5</td>\n",
       "      <td>1</td>\n",
       "      <td>0</td>\n",
       "      <td>0</td>\n",
       "      <td>2</td>\n",
       "    </tr>\n",
       "    <tr>\n",
       "      <th>2</th>\n",
       "      <td>6129</td>\n",
       "      <td>1</td>\n",
       "      <td>15/04/2018</td>\n",
       "      <td>11:00</td>\n",
       "      <td>America-MG</td>\n",
       "      <td>Sport</td>\n",
       "      <td>4-1-4-1</td>\n",
       "      <td>4-3-2-1</td>\n",
       "      <td>E. Alves Moreira</td>\n",
       "      <td>N. Baptista Júnior</td>\n",
       "      <td>...</td>\n",
       "      <td>15</td>\n",
       "      <td>5</td>\n",
       "      <td>62%</td>\n",
       "      <td>580</td>\n",
       "      <td>85%</td>\n",
       "      <td>12</td>\n",
       "      <td>3</td>\n",
       "      <td>0</td>\n",
       "      <td>3</td>\n",
       "      <td>6</td>\n",
       "    </tr>\n",
       "    <tr>\n",
       "      <th>3</th>\n",
       "      <td>6130</td>\n",
       "      <td>1</td>\n",
       "      <td>15/04/2018</td>\n",
       "      <td>16:01</td>\n",
       "      <td>Vasco</td>\n",
       "      <td>Atletico-MG</td>\n",
       "      <td>4-1-4-1</td>\n",
       "      <td>4-1-4-1</td>\n",
       "      <td>J. Mannarino</td>\n",
       "      <td>T. Mendes Larghi</td>\n",
       "      <td>...</td>\n",
       "      <td>11</td>\n",
       "      <td>6</td>\n",
       "      <td>33%</td>\n",
       "      <td>321</td>\n",
       "      <td>78%</td>\n",
       "      <td>18</td>\n",
       "      <td>3</td>\n",
       "      <td>0</td>\n",
       "      <td>3</td>\n",
       "      <td>3</td>\n",
       "    </tr>\n",
       "    <tr>\n",
       "      <th>4</th>\n",
       "      <td>6131</td>\n",
       "      <td>1</td>\n",
       "      <td>15/04/2018</td>\n",
       "      <td>16:02</td>\n",
       "      <td>Internacional</td>\n",
       "      <td>Bahia</td>\n",
       "      <td>4-2-3-1</td>\n",
       "      <td>4-2-3-1</td>\n",
       "      <td>O. Hellmann</td>\n",
       "      <td>A. Ferreira</td>\n",
       "      <td>...</td>\n",
       "      <td>12</td>\n",
       "      <td>2</td>\n",
       "      <td>55%</td>\n",
       "      <td>491</td>\n",
       "      <td>82%</td>\n",
       "      <td>18</td>\n",
       "      <td>0</td>\n",
       "      <td>0</td>\n",
       "      <td>1</td>\n",
       "      <td>3</td>\n",
       "    </tr>\n",
       "  </tbody>\n",
       "</table>\n",
       "<p>5 rows × 38 columns</p>\n",
       "</div>"
      ],
      "text/plain": [
       "   partida_id  rodada        data   hora       mandante    visitante  \\\n",
       "0        6126       1  14/04/2018  16:00       Cruzeiro       Gremio   \n",
       "1        6128       1  14/04/2018  21:03         Santos        Ceara   \n",
       "2        6129       1  15/04/2018  11:00     America-MG        Sport   \n",
       "3        6130       1  15/04/2018  16:01          Vasco  Atletico-MG   \n",
       "4        6131       1  15/04/2018  16:02  Internacional        Bahia   \n",
       "\n",
       "  formacao_mandante formacao_visitante      tecnico_mandante  \\\n",
       "0           4-2-3-1            4-2-3-1  L. Venker de Menezes   \n",
       "1             4-3-3            4-1-4-1    J. Ribeiro Ventura   \n",
       "2           4-1-4-1            4-3-2-1      E. Alves Moreira   \n",
       "3           4-1-4-1            4-1-4-1          J. Mannarino   \n",
       "4           4-2-3-1            4-2-3-1           O. Hellmann   \n",
       "\n",
       "      tecnico_visitante  ... visitante_chutes visitante_chutes_no_alvo  \\\n",
       "0         Renato Gaúcho  ...                6                        2   \n",
       "1  M. Oliveira Chamusca  ...               10                        2   \n",
       "2    N. Baptista Júnior  ...               15                        5   \n",
       "3      T. Mendes Larghi  ...               11                        6   \n",
       "4           A. Ferreira  ...               12                        2   \n",
       "\n",
       "   visitante_posse_de_bola  visitante_passes visitante_precisao_passes  \\\n",
       "0                      60%               649                       86%   \n",
       "1                      46%               472                       85%   \n",
       "2                      62%               580                       85%   \n",
       "3                      33%               321                       78%   \n",
       "4                      55%               491                       82%   \n",
       "\n",
       "  visitante_faltas  visitante_cartao_amarelo  visitante_cartao_vermelho  \\\n",
       "0               15                         1                          1   \n",
       "1                5                         1                          0   \n",
       "2               12                         3                          0   \n",
       "3               18                         3                          0   \n",
       "4               18                         0                          0   \n",
       "\n",
       "   visitante_impedimentos visitante_escanteios  \n",
       "0                       3                    4  \n",
       "1                       0                    2  \n",
       "2                       3                    6  \n",
       "3                       3                    3  \n",
       "4                       1                    3  \n",
       "\n",
       "[5 rows x 38 columns]"
      ]
     },
     "execution_count": 44,
     "metadata": {},
     "output_type": "execute_result"
    }
   ],
   "source": [
    "# Visualizando\n",
    "dados_completo.head()"
   ]
  },
  {
   "cell_type": "code",
   "execution_count": 45,
   "id": "855ae8a2",
   "metadata": {},
   "outputs": [
    {
     "data": {
      "text/plain": [
       "(1600, 38)"
      ]
     },
     "execution_count": 45,
     "metadata": {},
     "output_type": "execute_result"
    }
   ],
   "source": [
    "dados_completo.shape"
   ]
  },
  {
   "cell_type": "markdown",
   "id": "6611cbb3",
   "metadata": {},
   "source": [
    "# Atividade 3"
   ]
  },
  {
   "cell_type": "markdown",
   "id": "c549a20a",
   "metadata": {},
   "source": [
    "## A posse de bola influência no resultado?"
   ]
  },
  {
   "cell_type": "code",
   "execution_count": 46,
   "id": "a9a21bd3",
   "metadata": {},
   "outputs": [
    {
     "data": {
      "text/html": [
       "<div>\n",
       "<style scoped>\n",
       "    .dataframe tbody tr th:only-of-type {\n",
       "        vertical-align: middle;\n",
       "    }\n",
       "\n",
       "    .dataframe tbody tr th {\n",
       "        vertical-align: top;\n",
       "    }\n",
       "\n",
       "    .dataframe thead th {\n",
       "        text-align: right;\n",
       "    }\n",
       "</style>\n",
       "<table border=\"1\" class=\"dataframe\">\n",
       "  <thead>\n",
       "    <tr style=\"text-align: right;\">\n",
       "      <th></th>\n",
       "      <th>partida_id</th>\n",
       "      <th>rodada</th>\n",
       "      <th>data</th>\n",
       "      <th>hora</th>\n",
       "      <th>mandante</th>\n",
       "      <th>visitante</th>\n",
       "      <th>formacao_mandante</th>\n",
       "      <th>formacao_visitante</th>\n",
       "      <th>tecnico_mandante</th>\n",
       "      <th>tecnico_visitante</th>\n",
       "      <th>...</th>\n",
       "      <th>visitante_chutes</th>\n",
       "      <th>visitante_chutes_no_alvo</th>\n",
       "      <th>visitante_posse_de_bola</th>\n",
       "      <th>visitante_passes</th>\n",
       "      <th>visitante_precisao_passes</th>\n",
       "      <th>visitante_faltas</th>\n",
       "      <th>visitante_cartao_amarelo</th>\n",
       "      <th>visitante_cartao_vermelho</th>\n",
       "      <th>visitante_impedimentos</th>\n",
       "      <th>visitante_escanteios</th>\n",
       "    </tr>\n",
       "  </thead>\n",
       "  <tbody>\n",
       "    <tr>\n",
       "      <th>0</th>\n",
       "      <td>6126</td>\n",
       "      <td>1</td>\n",
       "      <td>14/04/2018</td>\n",
       "      <td>16:00</td>\n",
       "      <td>Cruzeiro</td>\n",
       "      <td>Gremio</td>\n",
       "      <td>4-2-3-1</td>\n",
       "      <td>4-2-3-1</td>\n",
       "      <td>L. Venker de Menezes</td>\n",
       "      <td>Renato Gaúcho</td>\n",
       "      <td>...</td>\n",
       "      <td>6</td>\n",
       "      <td>2</td>\n",
       "      <td>60%</td>\n",
       "      <td>649</td>\n",
       "      <td>86%</td>\n",
       "      <td>15</td>\n",
       "      <td>1</td>\n",
       "      <td>1</td>\n",
       "      <td>3</td>\n",
       "      <td>4</td>\n",
       "    </tr>\n",
       "    <tr>\n",
       "      <th>1</th>\n",
       "      <td>6128</td>\n",
       "      <td>1</td>\n",
       "      <td>14/04/2018</td>\n",
       "      <td>21:03</td>\n",
       "      <td>Santos</td>\n",
       "      <td>Ceara</td>\n",
       "      <td>4-3-3</td>\n",
       "      <td>4-1-4-1</td>\n",
       "      <td>J. Ribeiro Ventura</td>\n",
       "      <td>M. Oliveira Chamusca</td>\n",
       "      <td>...</td>\n",
       "      <td>10</td>\n",
       "      <td>2</td>\n",
       "      <td>46%</td>\n",
       "      <td>472</td>\n",
       "      <td>85%</td>\n",
       "      <td>5</td>\n",
       "      <td>1</td>\n",
       "      <td>0</td>\n",
       "      <td>0</td>\n",
       "      <td>2</td>\n",
       "    </tr>\n",
       "    <tr>\n",
       "      <th>2</th>\n",
       "      <td>6129</td>\n",
       "      <td>1</td>\n",
       "      <td>15/04/2018</td>\n",
       "      <td>11:00</td>\n",
       "      <td>America-MG</td>\n",
       "      <td>Sport</td>\n",
       "      <td>4-1-4-1</td>\n",
       "      <td>4-3-2-1</td>\n",
       "      <td>E. Alves Moreira</td>\n",
       "      <td>N. Baptista Júnior</td>\n",
       "      <td>...</td>\n",
       "      <td>15</td>\n",
       "      <td>5</td>\n",
       "      <td>62%</td>\n",
       "      <td>580</td>\n",
       "      <td>85%</td>\n",
       "      <td>12</td>\n",
       "      <td>3</td>\n",
       "      <td>0</td>\n",
       "      <td>3</td>\n",
       "      <td>6</td>\n",
       "    </tr>\n",
       "    <tr>\n",
       "      <th>3</th>\n",
       "      <td>6130</td>\n",
       "      <td>1</td>\n",
       "      <td>15/04/2018</td>\n",
       "      <td>16:01</td>\n",
       "      <td>Vasco</td>\n",
       "      <td>Atletico-MG</td>\n",
       "      <td>4-1-4-1</td>\n",
       "      <td>4-1-4-1</td>\n",
       "      <td>J. Mannarino</td>\n",
       "      <td>T. Mendes Larghi</td>\n",
       "      <td>...</td>\n",
       "      <td>11</td>\n",
       "      <td>6</td>\n",
       "      <td>33%</td>\n",
       "      <td>321</td>\n",
       "      <td>78%</td>\n",
       "      <td>18</td>\n",
       "      <td>3</td>\n",
       "      <td>0</td>\n",
       "      <td>3</td>\n",
       "      <td>3</td>\n",
       "    </tr>\n",
       "    <tr>\n",
       "      <th>4</th>\n",
       "      <td>6131</td>\n",
       "      <td>1</td>\n",
       "      <td>15/04/2018</td>\n",
       "      <td>16:02</td>\n",
       "      <td>Internacional</td>\n",
       "      <td>Bahia</td>\n",
       "      <td>4-2-3-1</td>\n",
       "      <td>4-2-3-1</td>\n",
       "      <td>O. Hellmann</td>\n",
       "      <td>A. Ferreira</td>\n",
       "      <td>...</td>\n",
       "      <td>12</td>\n",
       "      <td>2</td>\n",
       "      <td>55%</td>\n",
       "      <td>491</td>\n",
       "      <td>82%</td>\n",
       "      <td>18</td>\n",
       "      <td>0</td>\n",
       "      <td>0</td>\n",
       "      <td>1</td>\n",
       "      <td>3</td>\n",
       "    </tr>\n",
       "  </tbody>\n",
       "</table>\n",
       "<p>5 rows × 38 columns</p>\n",
       "</div>"
      ],
      "text/plain": [
       "   partida_id  rodada        data   hora       mandante    visitante  \\\n",
       "0        6126       1  14/04/2018  16:00       Cruzeiro       Gremio   \n",
       "1        6128       1  14/04/2018  21:03         Santos        Ceara   \n",
       "2        6129       1  15/04/2018  11:00     America-MG        Sport   \n",
       "3        6130       1  15/04/2018  16:01          Vasco  Atletico-MG   \n",
       "4        6131       1  15/04/2018  16:02  Internacional        Bahia   \n",
       "\n",
       "  formacao_mandante formacao_visitante      tecnico_mandante  \\\n",
       "0           4-2-3-1            4-2-3-1  L. Venker de Menezes   \n",
       "1             4-3-3            4-1-4-1    J. Ribeiro Ventura   \n",
       "2           4-1-4-1            4-3-2-1      E. Alves Moreira   \n",
       "3           4-1-4-1            4-1-4-1          J. Mannarino   \n",
       "4           4-2-3-1            4-2-3-1           O. Hellmann   \n",
       "\n",
       "      tecnico_visitante  ... visitante_chutes visitante_chutes_no_alvo  \\\n",
       "0         Renato Gaúcho  ...                6                        2   \n",
       "1  M. Oliveira Chamusca  ...               10                        2   \n",
       "2    N. Baptista Júnior  ...               15                        5   \n",
       "3      T. Mendes Larghi  ...               11                        6   \n",
       "4           A. Ferreira  ...               12                        2   \n",
       "\n",
       "   visitante_posse_de_bola  visitante_passes visitante_precisao_passes  \\\n",
       "0                      60%               649                       86%   \n",
       "1                      46%               472                       85%   \n",
       "2                      62%               580                       85%   \n",
       "3                      33%               321                       78%   \n",
       "4                      55%               491                       82%   \n",
       "\n",
       "  visitante_faltas  visitante_cartao_amarelo  visitante_cartao_vermelho  \\\n",
       "0               15                         1                          1   \n",
       "1                5                         1                          0   \n",
       "2               12                         3                          0   \n",
       "3               18                         3                          0   \n",
       "4               18                         0                          0   \n",
       "\n",
       "   visitante_impedimentos visitante_escanteios  \n",
       "0                       3                    4  \n",
       "1                       0                    2  \n",
       "2                       3                    6  \n",
       "3                       3                    3  \n",
       "4                       1                    3  \n",
       "\n",
       "[5 rows x 38 columns]"
      ]
     },
     "execution_count": 46,
     "metadata": {},
     "output_type": "execute_result"
    }
   ],
   "source": [
    "dados_completo.head()"
   ]
  },
  {
   "cell_type": "code",
   "execution_count": 47,
   "id": "2999e44c",
   "metadata": {},
   "outputs": [
    {
     "data": {
      "text/plain": [
       "['partida_id',\n",
       " 'rodada',\n",
       " 'data',\n",
       " 'hora',\n",
       " 'mandante',\n",
       " 'visitante',\n",
       " 'formacao_mandante',\n",
       " 'formacao_visitante',\n",
       " 'tecnico_mandante',\n",
       " 'tecnico_visitante',\n",
       " 'vencedor',\n",
       " 'arena',\n",
       " 'mandante_Placar',\n",
       " 'visitante_Placar',\n",
       " 'mandante_Estado',\n",
       " 'visitante_Estado',\n",
       " 'mandante_rodada',\n",
       " 'mandante_chutes',\n",
       " 'mandante_chutes_no_alvo',\n",
       " 'mandante_posse_de_bola',\n",
       " 'mandante_passes',\n",
       " 'mandante_precisao_passes',\n",
       " 'mandante_faltas',\n",
       " 'mandante_cartao_amarelo',\n",
       " 'mandante_cartao_vermelho',\n",
       " 'mandante_impedimentos',\n",
       " 'mandante_escanteios',\n",
       " 'visitante_rodada',\n",
       " 'visitante_chutes',\n",
       " 'visitante_chutes_no_alvo',\n",
       " 'visitante_posse_de_bola',\n",
       " 'visitante_passes',\n",
       " 'visitante_precisao_passes',\n",
       " 'visitante_faltas',\n",
       " 'visitante_cartao_amarelo',\n",
       " 'visitante_cartao_vermelho',\n",
       " 'visitante_impedimentos',\n",
       " 'visitante_escanteios']"
      ]
     },
     "execution_count": 47,
     "metadata": {},
     "output_type": "execute_result"
    }
   ],
   "source": [
    "list(dados_completo.columns)"
   ]
  },
  {
   "cell_type": "code",
   "execution_count": 48,
   "id": "c0af03ec",
   "metadata": {},
   "outputs": [],
   "source": [
    "# Criando uma tabela com as colunas necessárias para melhor visualização\n",
    "posse_win = dados_completo[[\n",
    "    'mandante',\n",
    "    'visitante',\n",
    "    'mandante_posse_de_bola',\n",
    "    'visitante_posse_de_bola',\n",
    "    'vencedor'\n",
    "]].copy()"
   ]
  },
  {
   "cell_type": "code",
   "execution_count": 49,
   "id": "b6dbaece",
   "metadata": {},
   "outputs": [],
   "source": [
    "# Limpando % das colunas numéricas e convertendo-as para float\n",
    "\n",
    "posse_win['mandante_posse_de_bola'] = (\n",
    "    posse_win['mandante_posse_de_bola']\n",
    "    .astype(str)\n",
    "    .str.replace('%', '', regex=False)\n",
    "    .str.strip()\n",
    "    .astype(float)\n",
    ")\n",
    "\n",
    "posse_win['visitante_posse_de_bola'] = (\n",
    "    posse_win['visitante_posse_de_bola']\n",
    "    .astype(str)\n",
    "    .str.replace('%', '', regex=False)\n",
    "    .str.strip()\n",
    "    .astype(float)\n",
    ")"
   ]
  },
  {
   "cell_type": "code",
   "execution_count": 50,
   "id": "5b477cee",
   "metadata": {},
   "outputs": [
    {
     "data": {
      "text/html": [
       "<div>\n",
       "<style scoped>\n",
       "    .dataframe tbody tr th:only-of-type {\n",
       "        vertical-align: middle;\n",
       "    }\n",
       "\n",
       "    .dataframe tbody tr th {\n",
       "        vertical-align: top;\n",
       "    }\n",
       "\n",
       "    .dataframe thead th {\n",
       "        text-align: right;\n",
       "    }\n",
       "</style>\n",
       "<table border=\"1\" class=\"dataframe\">\n",
       "  <thead>\n",
       "    <tr style=\"text-align: right;\">\n",
       "      <th></th>\n",
       "      <th>mandante</th>\n",
       "      <th>visitante</th>\n",
       "      <th>mandante_posse_de_bola</th>\n",
       "      <th>visitante_posse_de_bola</th>\n",
       "      <th>vencedor</th>\n",
       "    </tr>\n",
       "  </thead>\n",
       "  <tbody>\n",
       "    <tr>\n",
       "      <th>0</th>\n",
       "      <td>Cruzeiro</td>\n",
       "      <td>Gremio</td>\n",
       "      <td>40.0</td>\n",
       "      <td>60.0</td>\n",
       "      <td>Gremio</td>\n",
       "    </tr>\n",
       "    <tr>\n",
       "      <th>1</th>\n",
       "      <td>Santos</td>\n",
       "      <td>Ceara</td>\n",
       "      <td>54.0</td>\n",
       "      <td>46.0</td>\n",
       "      <td>Santos</td>\n",
       "    </tr>\n",
       "    <tr>\n",
       "      <th>2</th>\n",
       "      <td>America-MG</td>\n",
       "      <td>Sport</td>\n",
       "      <td>38.0</td>\n",
       "      <td>62.0</td>\n",
       "      <td>America-MG</td>\n",
       "    </tr>\n",
       "    <tr>\n",
       "      <th>3</th>\n",
       "      <td>Vasco</td>\n",
       "      <td>Atletico-MG</td>\n",
       "      <td>67.0</td>\n",
       "      <td>33.0</td>\n",
       "      <td>Vasco</td>\n",
       "    </tr>\n",
       "    <tr>\n",
       "      <th>4</th>\n",
       "      <td>Internacional</td>\n",
       "      <td>Bahia</td>\n",
       "      <td>45.0</td>\n",
       "      <td>55.0</td>\n",
       "      <td>Internacional</td>\n",
       "    </tr>\n",
       "  </tbody>\n",
       "</table>\n",
       "</div>"
      ],
      "text/plain": [
       "        mandante    visitante  mandante_posse_de_bola  \\\n",
       "0       Cruzeiro       Gremio                    40.0   \n",
       "1         Santos        Ceara                    54.0   \n",
       "2     America-MG        Sport                    38.0   \n",
       "3          Vasco  Atletico-MG                    67.0   \n",
       "4  Internacional        Bahia                    45.0   \n",
       "\n",
       "   visitante_posse_de_bola       vencedor  \n",
       "0                     60.0         Gremio  \n",
       "1                     46.0         Santos  \n",
       "2                     62.0     America-MG  \n",
       "3                     33.0          Vasco  \n",
       "4                     55.0  Internacional  "
      ]
     },
     "execution_count": 50,
     "metadata": {},
     "output_type": "execute_result"
    }
   ],
   "source": [
    "posse_win.head()"
   ]
  },
  {
   "cell_type": "code",
   "execution_count": 51,
   "id": "040616ee",
   "metadata": {},
   "outputs": [
    {
     "name": "stdout",
     "output_type": "stream",
     "text": [
      "<class 'pandas.core.frame.DataFrame'>\n",
      "Int64Index: 1600 entries, 0 to 1599\n",
      "Data columns (total 5 columns):\n",
      " #   Column                   Non-Null Count  Dtype  \n",
      "---  ------                   --------------  -----  \n",
      " 0   mandante                 1600 non-null   object \n",
      " 1   visitante                1600 non-null   object \n",
      " 2   mandante_posse_de_bola   1600 non-null   float64\n",
      " 3   visitante_posse_de_bola  1600 non-null   float64\n",
      " 4   vencedor                 1600 non-null   object \n",
      "dtypes: float64(2), object(3)\n",
      "memory usage: 75.0+ KB\n"
     ]
    }
   ],
   "source": [
    "posse_win.info()"
   ]
  },
  {
   "cell_type": "code",
   "execution_count": 52,
   "id": "539d3087",
   "metadata": {},
   "outputs": [],
   "source": [
    "# função para verificar se quem teve a maior posse de bola foi o vencedor da partida\n",
    "\n",
    "def venceu_com_mais_posse(row):\n",
    "    if row['mandante_posse_de_bola'] > row['visitante_posse_de_bola'] and row['vencedor'] == row['mandante']:\n",
    "        return 'Maior posse venceu'\n",
    "    elif row['visitante_posse_de_bola'] > row['mandante_posse_de_bola'] and row['vencedor'] == row['visitante']:\n",
    "        return 'Maior posse venceu'\n",
    "    else:\n",
    "        return 'Maior posse perdeu ou empatou'\n",
    "\n",
    "posse_win['resultado_posse'] = posse_win.apply(venceu_com_mais_posse, axis=1)"
   ]
  },
  {
   "cell_type": "code",
   "execution_count": 53,
   "id": "291bcc65",
   "metadata": {},
   "outputs": [
    {
     "name": "stdout",
     "output_type": "stream",
     "text": [
      "Percentual de vitórias com maior posse: 46.12%\n"
     ]
    }
   ],
   "source": [
    "# calculando proporção\n",
    "\n",
    "proporcao = ((posse_win['resultado_posse'] == 'Maior posse venceu').sum() / len(posse_win)) * 100\n",
    "\n",
    "print(f\"Percentual de vitórias com maior posse: {proporcao:.2f}%\")"
   ]
  },
  {
   "cell_type": "code",
   "execution_count": 54,
   "id": "5afe6201",
   "metadata": {},
   "outputs": [
    {
     "data": {
      "text/html": [
       "<div>\n",
       "<style scoped>\n",
       "    .dataframe tbody tr th:only-of-type {\n",
       "        vertical-align: middle;\n",
       "    }\n",
       "\n",
       "    .dataframe tbody tr th {\n",
       "        vertical-align: top;\n",
       "    }\n",
       "\n",
       "    .dataframe thead th {\n",
       "        text-align: right;\n",
       "    }\n",
       "</style>\n",
       "<table border=\"1\" class=\"dataframe\">\n",
       "  <thead>\n",
       "    <tr style=\"text-align: right;\">\n",
       "      <th></th>\n",
       "      <th>mandante</th>\n",
       "      <th>visitante</th>\n",
       "      <th>mandante_posse_de_bola</th>\n",
       "      <th>visitante_posse_de_bola</th>\n",
       "      <th>vencedor</th>\n",
       "      <th>resultado_posse</th>\n",
       "    </tr>\n",
       "  </thead>\n",
       "  <tbody>\n",
       "    <tr>\n",
       "      <th>0</th>\n",
       "      <td>Cruzeiro</td>\n",
       "      <td>Gremio</td>\n",
       "      <td>40.0</td>\n",
       "      <td>60.0</td>\n",
       "      <td>Gremio</td>\n",
       "      <td>Maior posse venceu</td>\n",
       "    </tr>\n",
       "    <tr>\n",
       "      <th>1</th>\n",
       "      <td>Santos</td>\n",
       "      <td>Ceara</td>\n",
       "      <td>54.0</td>\n",
       "      <td>46.0</td>\n",
       "      <td>Santos</td>\n",
       "      <td>Maior posse venceu</td>\n",
       "    </tr>\n",
       "    <tr>\n",
       "      <th>2</th>\n",
       "      <td>America-MG</td>\n",
       "      <td>Sport</td>\n",
       "      <td>38.0</td>\n",
       "      <td>62.0</td>\n",
       "      <td>America-MG</td>\n",
       "      <td>Maior posse perdeu ou empatou</td>\n",
       "    </tr>\n",
       "    <tr>\n",
       "      <th>3</th>\n",
       "      <td>Vasco</td>\n",
       "      <td>Atletico-MG</td>\n",
       "      <td>67.0</td>\n",
       "      <td>33.0</td>\n",
       "      <td>Vasco</td>\n",
       "      <td>Maior posse venceu</td>\n",
       "    </tr>\n",
       "    <tr>\n",
       "      <th>4</th>\n",
       "      <td>Internacional</td>\n",
       "      <td>Bahia</td>\n",
       "      <td>45.0</td>\n",
       "      <td>55.0</td>\n",
       "      <td>Internacional</td>\n",
       "      <td>Maior posse perdeu ou empatou</td>\n",
       "    </tr>\n",
       "  </tbody>\n",
       "</table>\n",
       "</div>"
      ],
      "text/plain": [
       "        mandante    visitante  mandante_posse_de_bola  \\\n",
       "0       Cruzeiro       Gremio                    40.0   \n",
       "1         Santos        Ceara                    54.0   \n",
       "2     America-MG        Sport                    38.0   \n",
       "3          Vasco  Atletico-MG                    67.0   \n",
       "4  Internacional        Bahia                    45.0   \n",
       "\n",
       "   visitante_posse_de_bola       vencedor                resultado_posse  \n",
       "0                     60.0         Gremio             Maior posse venceu  \n",
       "1                     46.0         Santos             Maior posse venceu  \n",
       "2                     62.0     America-MG  Maior posse perdeu ou empatou  \n",
       "3                     33.0          Vasco             Maior posse venceu  \n",
       "4                     55.0  Internacional  Maior posse perdeu ou empatou  "
      ]
     },
     "execution_count": 54,
     "metadata": {},
     "output_type": "execute_result"
    }
   ],
   "source": [
    "# Visualizando o dataframe\n",
    "posse_win.head()"
   ]
  },
  {
   "cell_type": "code",
   "execution_count": 55,
   "id": "8587a768",
   "metadata": {},
   "outputs": [
    {
     "data": {
      "image/png": "[encoded data removed]",
      "text/plain": [
       "<Figure size 800x500 with 1 Axes>"
      ]
     },
     "metadata": {},
     "output_type": "display_data"
    }
   ],
   "source": [
    "# Plotando um gráfico para melhor entendimento\n",
    "\n",
    "sns.set(style=\"whitegrid\")\n",
    "plt.figure(figsize=(8,5))\n",
    "sns.countplot(data=posse_win, x='resultado_posse')\n",
    "plt.title(\"Resultado das Partidas vs Posse de Bola\")\n",
    "plt.xlabel(\"Situação\")\n",
    "plt.ylabel(\"Número de Partidas\")\n",
    "plt.tight_layout()\n",
    "plt.show()"
   ]
  },
  {
   "cell_type": "markdown",
   "id": "b4c1a214",
   "metadata": {},
   "source": [
    "### Insight: Do total de 1600 partidas, em 46% delas o vencedor tinha a maior posse de bola. O que significa que,  não necesssariamente o time que detém a maior posse de bola tende a vencer a partida."
   ]
  },
  {
   "cell_type": "markdown",
   "id": "a7201816",
   "metadata": {},
   "source": [
    "## A vantagem de jogar em casa (mandante) é real?"
   ]
  },
  {
   "cell_type": "code",
   "execution_count": 56,
   "id": "42524a1c",
   "metadata": {},
   "outputs": [],
   "source": [
    "# importando o módulo sql\n",
    "import sqlite3"
   ]
  },
  {
   "cell_type": "code",
   "execution_count": 57,
   "id": "fa0dbfae",
   "metadata": {},
   "outputs": [],
   "source": [
    "# criando a conexão\n",
    "con = sqlite3.connect(\":memory:\")"
   ]
  },
  {
   "cell_type": "code",
   "execution_count": 58,
   "id": "44be4b1a",
   "metadata": {},
   "outputs": [
    {
     "data": {
      "text/plain": [
       "1600"
      ]
     },
     "execution_count": 58,
     "metadata": {},
     "output_type": "execute_result"
    }
   ],
   "source": [
    "# subindo o dataframe para o sqlite\n",
    "\n",
    "dados_completo.to_sql(\"partidas\", con, index=False, if_exists = \"replace\")"
   ]
  },
  {
   "cell_type": "code",
   "execution_count": 59,
   "id": "90695bf6",
   "metadata": {},
   "outputs": [
    {
     "name": "stdout",
     "output_type": "stream",
     "text": [
      "  tipo_vencedor  total\n",
      "0      mandante   1048\n",
      "1     visitante    552\n"
     ]
    }
   ],
   "source": [
    "# Fzendo uma query sql para verificar a quantidade de vittórias por mando de campo\n",
    "\n",
    "query = \"\"\"\n",
    "SELECT \n",
    "    CASE\n",
    "        WHEN vencedor = mandante THEN 'mandante'\n",
    "        WHEN vencedor = visitante THEN 'visitante'\n",
    "        ELSE 'empate'\n",
    "    END AS tipo_vencedor,\n",
    "    COUNT(*) AS total\n",
    "FROM partidas\n",
    "GROUP BY tipo_vencedor\n",
    "ORDER BY total DESC\n",
    "\"\"\"\n",
    "\n",
    "resultado = pd.read_sql_query(query, con)\n",
    "print(resultado)"
   ]
  },
  {
   "cell_type": "code",
   "execution_count": 60,
   "id": "85daa177",
   "metadata": {},
   "outputs": [
    {
     "data": {
      "image/png": "[encoded data removed]",
      "text/plain": [
       "<Figure size 800x500 with 1 Axes>"
      ]
     },
     "metadata": {},
     "output_type": "display_data"
    }
   ],
   "source": [
    "# plotando um gráfico\n",
    "\n",
    "plt.figure(figsize=(8, 5))\n",
    "sns.barplot(data=resultado, x='tipo_vencedor', y='total')\n",
    "plt.title('Vitórias por mando de campo (Mandante ou Visitante)')\n",
    "plt.xlabel('Tipo de Vencedor')\n",
    "plt.ylabel('Número de Partidas')\n",
    "plt.tight_layout()\n",
    "plt.show()"
   ]
  },
  {
   "cell_type": "markdown",
   "id": "25f9bec4",
   "metadata": {},
   "source": [
    "### Insight: Os times com mando de campo venceram 1,90 vezes mais do que os visitantes. A vantagem de jogar em casa se traduziu em vitória em 65,5% das partidas, de acordo com os dados."
   ]
  },
  {
   "cell_type": "markdown",
   "id": "09c95943",
   "metadata": {},
   "source": [
    "# A estatística dos vencedores"
   ]
  },
  {
   "cell_type": "code",
   "execution_count": 61,
   "id": "e6f09685",
   "metadata": {},
   "outputs": [],
   "source": [
    "# filtrando o dataframe somente com os vencedores para cada partida\n",
    "\n",
    "# lista reutilizável\n",
    "colunas_base = [\n",
    "    'formacao',\n",
    "    'chutes',\n",
    "    'chutes_no_alvo',\n",
    "    'posse_de_bola',\n",
    "    'passes',\n",
    "    'precisao_passes',\n",
    "    'faltas',\n",
    "    'cartao_amarelo',\n",
    "    'cartao_vermelho',\n",
    "    'impedimentos',\n",
    "    'escanteios'\n",
    "]"
   ]
  },
  {
   "cell_type": "code",
   "execution_count": 62,
   "id": "b42d04d6",
   "metadata": {},
   "outputs": [],
   "source": [
    "# função auxiliar para mapear corretamente o nome da coluna no DataFrame original (dados_completo)\n",
    "def nome_coluna(origem, col):\n",
    "    if col == 'formacao':\n",
    "        return f'formacao_{origem}'  # ex: formacao_mandante\n",
    "    else:\n",
    "        return f'{origem}_{col}'     # ex: mandante_chutes\n"
   ]
  },
  {
   "cell_type": "code",
   "execution_count": 67,
   "id": "b9971b1d",
   "metadata": {},
   "outputs": [],
   "source": [
    "vitorias_df = dados_completo[dados_completo['vencedor'].notna()].copy()\n",
    "\n",
    "for col in colunas_base:\n",
    "    vitorias_df[col] = np.where(\n",
    "        vitorias_df['vencedor'] == vitorias_df['mandante'],\n",
    "        vitorias_df[nome_coluna('mandante', col)],\n",
    "        vitorias_df[nome_coluna('visitante', col)]\n",
    "    )\n",
    "\n",
    "colunas_finais = ['vencedor'] + colunas_base\n",
    "estatisticas_vencedores = vitorias_df[colunas_finais].copy()"
   ]
  },
  {
   "cell_type": "code",
   "execution_count": 68,
   "id": "96e55fc6",
   "metadata": {},
   "outputs": [
    {
     "data": {
      "text/html": [
       "<div>\n",
       "<style scoped>\n",
       "    .dataframe tbody tr th:only-of-type {\n",
       "        vertical-align: middle;\n",
       "    }\n",
       "\n",
       "    .dataframe tbody tr th {\n",
       "        vertical-align: top;\n",
       "    }\n",
       "\n",
       "    .dataframe thead th {\n",
       "        text-align: right;\n",
       "    }\n",
       "</style>\n",
       "<table border=\"1\" class=\"dataframe\">\n",
       "  <thead>\n",
       "    <tr style=\"text-align: right;\">\n",
       "      <th></th>\n",
       "      <th>vencedor</th>\n",
       "      <th>formacao</th>\n",
       "      <th>chutes</th>\n",
       "      <th>chutes_no_alvo</th>\n",
       "      <th>posse_de_bola</th>\n",
       "      <th>passes</th>\n",
       "      <th>precisao_passes</th>\n",
       "      <th>faltas</th>\n",
       "      <th>cartao_amarelo</th>\n",
       "      <th>cartao_vermelho</th>\n",
       "      <th>impedimentos</th>\n",
       "      <th>escanteios</th>\n",
       "    </tr>\n",
       "  </thead>\n",
       "  <tbody>\n",
       "    <tr>\n",
       "      <th>0</th>\n",
       "      <td>Gremio</td>\n",
       "      <td>4-2-3-1</td>\n",
       "      <td>6</td>\n",
       "      <td>2</td>\n",
       "      <td>60%</td>\n",
       "      <td>649</td>\n",
       "      <td>86%</td>\n",
       "      <td>15</td>\n",
       "      <td>1</td>\n",
       "      <td>1</td>\n",
       "      <td>3</td>\n",
       "      <td>4</td>\n",
       "    </tr>\n",
       "    <tr>\n",
       "      <th>1</th>\n",
       "      <td>Santos</td>\n",
       "      <td>4-3-3</td>\n",
       "      <td>22</td>\n",
       "      <td>3</td>\n",
       "      <td>54%</td>\n",
       "      <td>532</td>\n",
       "      <td>90%</td>\n",
       "      <td>7</td>\n",
       "      <td>0</td>\n",
       "      <td>0</td>\n",
       "      <td>1</td>\n",
       "      <td>4</td>\n",
       "    </tr>\n",
       "    <tr>\n",
       "      <th>2</th>\n",
       "      <td>America-MG</td>\n",
       "      <td>4-1-4-1</td>\n",
       "      <td>14</td>\n",
       "      <td>4</td>\n",
       "      <td>38%</td>\n",
       "      <td>363</td>\n",
       "      <td>76%</td>\n",
       "      <td>11</td>\n",
       "      <td>1</td>\n",
       "      <td>0</td>\n",
       "      <td>4</td>\n",
       "      <td>2</td>\n",
       "    </tr>\n",
       "    <tr>\n",
       "      <th>3</th>\n",
       "      <td>Vasco</td>\n",
       "      <td>4-1-4-1</td>\n",
       "      <td>19</td>\n",
       "      <td>7</td>\n",
       "      <td>67%</td>\n",
       "      <td>596</td>\n",
       "      <td>88%</td>\n",
       "      <td>11</td>\n",
       "      <td>4</td>\n",
       "      <td>0</td>\n",
       "      <td>3</td>\n",
       "      <td>9</td>\n",
       "    </tr>\n",
       "    <tr>\n",
       "      <th>4</th>\n",
       "      <td>Internacional</td>\n",
       "      <td>4-2-3-1</td>\n",
       "      <td>13</td>\n",
       "      <td>4</td>\n",
       "      <td>45%</td>\n",
       "      <td>412</td>\n",
       "      <td>75%</td>\n",
       "      <td>16</td>\n",
       "      <td>2</td>\n",
       "      <td>0</td>\n",
       "      <td>1</td>\n",
       "      <td>4</td>\n",
       "    </tr>\n",
       "  </tbody>\n",
       "</table>\n",
       "</div>"
      ],
      "text/plain": [
       "        vencedor formacao  chutes  chutes_no_alvo posse_de_bola  passes  \\\n",
       "0         Gremio  4-2-3-1       6               2           60%     649   \n",
       "1         Santos    4-3-3      22               3           54%     532   \n",
       "2     America-MG  4-1-4-1      14               4           38%     363   \n",
       "3          Vasco  4-1-4-1      19               7           67%     596   \n",
       "4  Internacional  4-2-3-1      13               4           45%     412   \n",
       "\n",
       "  precisao_passes  faltas  cartao_amarelo  cartao_vermelho  impedimentos  \\\n",
       "0             86%      15               1                1             3   \n",
       "1             90%       7               0                0             1   \n",
       "2             76%      11               1                0             4   \n",
       "3             88%      11               4                0             3   \n",
       "4             75%      16               2                0             1   \n",
       "\n",
       "   escanteios  \n",
       "0           4  \n",
       "1           4  \n",
       "2           2  \n",
       "3           9  \n",
       "4           4  "
      ]
     },
     "execution_count": 68,
     "metadata": {},
     "output_type": "execute_result"
    }
   ],
   "source": [
    "estatisticas_vencedores.head()"
   ]
  },
  {
   "cell_type": "code",
   "execution_count": 69,
   "id": "3285d914",
   "metadata": {},
   "outputs": [],
   "source": [
    "# Remove '%' e converte para float\n",
    "estatisticas_vencedores['posse_de_bola'] = (\n",
    "    estatisticas_vencedores['posse_de_bola']\n",
    "    .astype(str)\n",
    "    .str.replace('%', '', regex=False)\n",
    "    .str.strip()\n",
    "    .replace('', np.nan)\n",
    "    .astype(float)\n",
    ")\n",
    "\n",
    "estatisticas_vencedores['precisao_passes'] = (\n",
    "    estatisticas_vencedores['precisao_passes']\n",
    "    .astype(str)\n",
    "    .str.replace('%', '', regex=False)\n",
    "    .str.strip()\n",
    "    .replace('', np.nan)\n",
    "    .astype(float)\n",
    ")"
   ]
  },
  {
   "cell_type": "code",
   "execution_count": 70,
   "id": "f5ba6e02",
   "metadata": {},
   "outputs": [],
   "source": [
    "# lista de colunas a serem convertidas\n",
    "colunas_para_float = [\n",
    "    'chutes',\n",
    "    'chutes_no_alvo',\n",
    "    'passes',\n",
    "    'faltas',\n",
    "    'cartao_amarelo',\n",
    "    'cartao_vermelho',\n",
    "    'impedimentos',\n",
    "    'escanteios' \n",
    "]"
   ]
  },
  {
   "cell_type": "code",
   "execution_count": 71,
   "id": "d6306798",
   "metadata": {},
   "outputs": [],
   "source": [
    "# loop para aplicar a conversão\n",
    "for col in colunas_para_float:\n",
    "    estatisticas_vencedores[col] = (\n",
    "        estatisticas_vencedores[col]\n",
    "        .astype(str)\n",
    "        .str.strip()\n",
    "        .replace('', np.nan)\n",
    "        .astype(float)\n",
    "    )"
   ]
  },
  {
   "cell_type": "code",
   "execution_count": 72,
   "id": "9feba855",
   "metadata": {},
   "outputs": [
    {
     "data": {
      "image/png": "[encoded data removed]",
      "text/plain": [
       "<Figure size 1500x900 with 2 Axes>"
      ]
     },
     "metadata": {},
     "output_type": "display_data"
    }
   ],
   "source": [
    "# matriz de correlação para o dataframe somente com os vencedores das partidas\n",
    "plt.figure(figsize=(15, 9))\n",
    "sns.heatmap(estatisticas_vencedores.corr(), annot = True)\n",
    "plt.title('Matriz de correlação entre as estatísticas')\n",
    "plt.xticks(rotation = 55)\n",
    "plt.show()"
   ]
  },
  {
   "cell_type": "markdown",
   "id": "ec484364",
   "metadata": {},
   "source": [
    "# A  estatisticas dos perdedores"
   ]
  },
  {
   "cell_type": "code",
   "execution_count": 79,
   "id": "889e1cdf",
   "metadata": {},
   "outputs": [],
   "source": [
    "# Adiciona a coluna 'perdedor' (caso ainda não exista)\n",
    "def identificar_perdedor(row):\n",
    "    if row['vencedor'] == row['mandante']:\n",
    "        return row['visitante']\n",
    "    elif row['vencedor'] == row['visitante']:\n",
    "        return row['mandante']\n",
    "    else:\n",
    "        return None  # empates\n",
    "\n",
    "dados_completo['perdedor'] = dados_completo.apply(identificar_perdedor, axis=1)\n",
    "\n",
    "# Filtra apenas partidas com perdedor (sem empates)\n",
    "derrotas_df = dados_completo[dados_completo['perdedor'].notna()].copy()\n",
    "\n",
    "# Reutiliza a lista base\n",
    "colunas_base = [\n",
    "    'formacao',\n",
    "    'chutes',\n",
    "    'chutes_no_alvo',\n",
    "    'posse_de_bola',\n",
    "    'passes',\n",
    "    'precisao_passes',\n",
    "    'faltas',\n",
    "    'cartao_amarelo',\n",
    "    'cartao_vermelho',\n",
    "    'impedimentos',\n",
    "    'escanteios'\n",
    "]\n",
    "\n",
    "# Função auxiliar para mapear nome da coluna corretamente\n",
    "def nome_coluna(origem, col):\n",
    "    if col == 'formacao':\n",
    "        return f'formacao_{origem}'\n",
    "    else:\n",
    "        return f'{origem}_{col}'\n",
    "\n",
    "# Preenche colunas com as estatísticas do perdedor\n",
    "for col in colunas_base:\n",
    "    derrotas_df[col] = np.where(\n",
    "        derrotas_df['perdedor'] == derrotas_df['mandante'],\n",
    "        derrotas_df[nome_coluna('mandante', col)],\n",
    "        derrotas_df[nome_coluna('visitante', col)]\n",
    "    )\n",
    "\n",
    "# Seleciona apenas as colunas finais\n",
    "colunas_finais = ['perdedor'] + colunas_base\n",
    "estatisticas_perdedores = derrotas_df[colunas_finais].copy()"
   ]
  },
  {
   "cell_type": "code",
   "execution_count": 80,
   "id": "6bfe2e06",
   "metadata": {},
   "outputs": [
    {
     "data": {
      "text/html": [
       "<div>\n",
       "<style scoped>\n",
       "    .dataframe tbody tr th:only-of-type {\n",
       "        vertical-align: middle;\n",
       "    }\n",
       "\n",
       "    .dataframe tbody tr th {\n",
       "        vertical-align: top;\n",
       "    }\n",
       "\n",
       "    .dataframe thead th {\n",
       "        text-align: right;\n",
       "    }\n",
       "</style>\n",
       "<table border=\"1\" class=\"dataframe\">\n",
       "  <thead>\n",
       "    <tr style=\"text-align: right;\">\n",
       "      <th></th>\n",
       "      <th>perdedor</th>\n",
       "      <th>formacao</th>\n",
       "      <th>chutes</th>\n",
       "      <th>chutes_no_alvo</th>\n",
       "      <th>posse_de_bola</th>\n",
       "      <th>passes</th>\n",
       "      <th>precisao_passes</th>\n",
       "      <th>faltas</th>\n",
       "      <th>cartao_amarelo</th>\n",
       "      <th>cartao_vermelho</th>\n",
       "      <th>impedimentos</th>\n",
       "      <th>escanteios</th>\n",
       "    </tr>\n",
       "  </thead>\n",
       "  <tbody>\n",
       "    <tr>\n",
       "      <th>0</th>\n",
       "      <td>Cruzeiro</td>\n",
       "      <td>4-2-3-1</td>\n",
       "      <td>12</td>\n",
       "      <td>2</td>\n",
       "      <td>40%</td>\n",
       "      <td>425</td>\n",
       "      <td>81%</td>\n",
       "      <td>20</td>\n",
       "      <td>3</td>\n",
       "      <td>0</td>\n",
       "      <td>0</td>\n",
       "      <td>7</td>\n",
       "    </tr>\n",
       "    <tr>\n",
       "      <th>1</th>\n",
       "      <td>Ceara</td>\n",
       "      <td>4-1-4-1</td>\n",
       "      <td>10</td>\n",
       "      <td>2</td>\n",
       "      <td>46%</td>\n",
       "      <td>472</td>\n",
       "      <td>85%</td>\n",
       "      <td>5</td>\n",
       "      <td>1</td>\n",
       "      <td>0</td>\n",
       "      <td>0</td>\n",
       "      <td>2</td>\n",
       "    </tr>\n",
       "    <tr>\n",
       "      <th>2</th>\n",
       "      <td>Sport</td>\n",
       "      <td>4-3-2-1</td>\n",
       "      <td>15</td>\n",
       "      <td>5</td>\n",
       "      <td>62%</td>\n",
       "      <td>580</td>\n",
       "      <td>85%</td>\n",
       "      <td>12</td>\n",
       "      <td>3</td>\n",
       "      <td>0</td>\n",
       "      <td>3</td>\n",
       "      <td>6</td>\n",
       "    </tr>\n",
       "    <tr>\n",
       "      <th>3</th>\n",
       "      <td>Atletico-MG</td>\n",
       "      <td>4-1-4-1</td>\n",
       "      <td>11</td>\n",
       "      <td>6</td>\n",
       "      <td>33%</td>\n",
       "      <td>321</td>\n",
       "      <td>78%</td>\n",
       "      <td>18</td>\n",
       "      <td>3</td>\n",
       "      <td>0</td>\n",
       "      <td>3</td>\n",
       "      <td>3</td>\n",
       "    </tr>\n",
       "    <tr>\n",
       "      <th>4</th>\n",
       "      <td>Bahia</td>\n",
       "      <td>4-2-3-1</td>\n",
       "      <td>12</td>\n",
       "      <td>2</td>\n",
       "      <td>55%</td>\n",
       "      <td>491</td>\n",
       "      <td>82%</td>\n",
       "      <td>18</td>\n",
       "      <td>0</td>\n",
       "      <td>0</td>\n",
       "      <td>1</td>\n",
       "      <td>3</td>\n",
       "    </tr>\n",
       "  </tbody>\n",
       "</table>\n",
       "</div>"
      ],
      "text/plain": [
       "      perdedor formacao  chutes  chutes_no_alvo posse_de_bola  passes  \\\n",
       "0     Cruzeiro  4-2-3-1      12               2           40%     425   \n",
       "1        Ceara  4-1-4-1      10               2           46%     472   \n",
       "2        Sport  4-3-2-1      15               5           62%     580   \n",
       "3  Atletico-MG  4-1-4-1      11               6           33%     321   \n",
       "4        Bahia  4-2-3-1      12               2           55%     491   \n",
       "\n",
       "  precisao_passes  faltas  cartao_amarelo  cartao_vermelho  impedimentos  \\\n",
       "0             81%      20               3                0             0   \n",
       "1             85%       5               1                0             0   \n",
       "2             85%      12               3                0             3   \n",
       "3             78%      18               3                0             3   \n",
       "4             82%      18               0                0             1   \n",
       "\n",
       "   escanteios  \n",
       "0           7  \n",
       "1           2  \n",
       "2           6  \n",
       "3           3  \n",
       "4           3  "
      ]
     },
     "execution_count": 80,
     "metadata": {},
     "output_type": "execute_result"
    }
   ],
   "source": [
    "estatisticas_perdedores.head()"
   ]
  },
  {
   "cell_type": "code",
   "execution_count": 81,
   "id": "c8dd31e1",
   "metadata": {},
   "outputs": [],
   "source": [
    "# Remove '%' e converte para float\n",
    "estatisticas_perdedores['posse_de_bola'] = (\n",
    "    estatisticas_vencedores['posse_de_bola']\n",
    "    .astype(str)\n",
    "    .str.replace('%', '', regex=False)\n",
    "    .str.strip()\n",
    "    .replace('', np.nan)\n",
    "    .astype(float)\n",
    ")\n",
    "\n",
    "estatisticas_perdedores['precisao_passes'] = (\n",
    "    estatisticas_vencedores['precisao_passes']\n",
    "    .astype(str)\n",
    "    .str.replace('%', '', regex=False)\n",
    "    .str.strip()\n",
    "    .replace('', np.nan)\n",
    "    .astype(float)\n",
    ")"
   ]
  },
  {
   "cell_type": "code",
   "execution_count": 82,
   "id": "efabe0cf",
   "metadata": {},
   "outputs": [],
   "source": [
    "# lista de colunas a serem convertidas\n",
    "colunas2_para_float = [\n",
    "    'chutes',\n",
    "    'chutes_no_alvo',\n",
    "    'passes',\n",
    "    'faltas',\n",
    "    'cartao_amarelo',\n",
    "    'cartao_vermelho',\n",
    "    'impedimentos',\n",
    "    'escanteios' \n",
    "]"
   ]
  },
  {
   "cell_type": "code",
   "execution_count": 83,
   "id": "d6708078",
   "metadata": {},
   "outputs": [],
   "source": [
    "# loop para aplicar a conversão\n",
    "for col in colunas2_para_float:\n",
    "    estatisticas_vencedores[col] = (\n",
    "        estatisticas_vencedores[col]\n",
    "        .astype(str)\n",
    "        .str.strip()\n",
    "        .replace('', np.nan)\n",
    "        .astype(float)\n",
    "    )"
   ]
  },
  {
   "cell_type": "code",
   "execution_count": 84,
   "id": "62592cfb",
   "metadata": {},
   "outputs": [
    {
     "data": {
      "text/html": [
       "<div>\n",
       "<style scoped>\n",
       "    .dataframe tbody tr th:only-of-type {\n",
       "        vertical-align: middle;\n",
       "    }\n",
       "\n",
       "    .dataframe tbody tr th {\n",
       "        vertical-align: top;\n",
       "    }\n",
       "\n",
       "    .dataframe thead th {\n",
       "        text-align: right;\n",
       "    }\n",
       "</style>\n",
       "<table border=\"1\" class=\"dataframe\">\n",
       "  <thead>\n",
       "    <tr style=\"text-align: right;\">\n",
       "      <th></th>\n",
       "      <th>perdedor</th>\n",
       "      <th>formacao</th>\n",
       "      <th>chutes</th>\n",
       "      <th>chutes_no_alvo</th>\n",
       "      <th>posse_de_bola</th>\n",
       "      <th>passes</th>\n",
       "      <th>precisao_passes</th>\n",
       "      <th>faltas</th>\n",
       "      <th>cartao_amarelo</th>\n",
       "      <th>cartao_vermelho</th>\n",
       "      <th>impedimentos</th>\n",
       "      <th>escanteios</th>\n",
       "    </tr>\n",
       "  </thead>\n",
       "  <tbody>\n",
       "    <tr>\n",
       "      <th>0</th>\n",
       "      <td>Cruzeiro</td>\n",
       "      <td>4-2-3-1</td>\n",
       "      <td>12</td>\n",
       "      <td>2</td>\n",
       "      <td>60.0</td>\n",
       "      <td>425</td>\n",
       "      <td>86.0</td>\n",
       "      <td>20</td>\n",
       "      <td>3</td>\n",
       "      <td>0</td>\n",
       "      <td>0</td>\n",
       "      <td>7</td>\n",
       "    </tr>\n",
       "    <tr>\n",
       "      <th>1</th>\n",
       "      <td>Ceara</td>\n",
       "      <td>4-1-4-1</td>\n",
       "      <td>10</td>\n",
       "      <td>2</td>\n",
       "      <td>54.0</td>\n",
       "      <td>472</td>\n",
       "      <td>90.0</td>\n",
       "      <td>5</td>\n",
       "      <td>1</td>\n",
       "      <td>0</td>\n",
       "      <td>0</td>\n",
       "      <td>2</td>\n",
       "    </tr>\n",
       "    <tr>\n",
       "      <th>2</th>\n",
       "      <td>Sport</td>\n",
       "      <td>4-3-2-1</td>\n",
       "      <td>15</td>\n",
       "      <td>5</td>\n",
       "      <td>38.0</td>\n",
       "      <td>580</td>\n",
       "      <td>76.0</td>\n",
       "      <td>12</td>\n",
       "      <td>3</td>\n",
       "      <td>0</td>\n",
       "      <td>3</td>\n",
       "      <td>6</td>\n",
       "    </tr>\n",
       "    <tr>\n",
       "      <th>3</th>\n",
       "      <td>Atletico-MG</td>\n",
       "      <td>4-1-4-1</td>\n",
       "      <td>11</td>\n",
       "      <td>6</td>\n",
       "      <td>67.0</td>\n",
       "      <td>321</td>\n",
       "      <td>88.0</td>\n",
       "      <td>18</td>\n",
       "      <td>3</td>\n",
       "      <td>0</td>\n",
       "      <td>3</td>\n",
       "      <td>3</td>\n",
       "    </tr>\n",
       "    <tr>\n",
       "      <th>4</th>\n",
       "      <td>Bahia</td>\n",
       "      <td>4-2-3-1</td>\n",
       "      <td>12</td>\n",
       "      <td>2</td>\n",
       "      <td>45.0</td>\n",
       "      <td>491</td>\n",
       "      <td>75.0</td>\n",
       "      <td>18</td>\n",
       "      <td>0</td>\n",
       "      <td>0</td>\n",
       "      <td>1</td>\n",
       "      <td>3</td>\n",
       "    </tr>\n",
       "  </tbody>\n",
       "</table>\n",
       "</div>"
      ],
      "text/plain": [
       "      perdedor formacao  chutes  chutes_no_alvo  posse_de_bola  passes  \\\n",
       "0     Cruzeiro  4-2-3-1      12               2           60.0     425   \n",
       "1        Ceara  4-1-4-1      10               2           54.0     472   \n",
       "2        Sport  4-3-2-1      15               5           38.0     580   \n",
       "3  Atletico-MG  4-1-4-1      11               6           67.0     321   \n",
       "4        Bahia  4-2-3-1      12               2           45.0     491   \n",
       "\n",
       "   precisao_passes  faltas  cartao_amarelo  cartao_vermelho  impedimentos  \\\n",
       "0             86.0      20               3                0             0   \n",
       "1             90.0       5               1                0             0   \n",
       "2             76.0      12               3                0             3   \n",
       "3             88.0      18               3                0             3   \n",
       "4             75.0      18               0                0             1   \n",
       "\n",
       "   escanteios  \n",
       "0           7  \n",
       "1           2  \n",
       "2           6  \n",
       "3           3  \n",
       "4           3  "
      ]
     },
     "execution_count": 84,
     "metadata": {},
     "output_type": "execute_result"
    }
   ],
   "source": [
    "estatisticas_perdedores.head()"
   ]
  },
  {
   "cell_type": "code",
   "execution_count": 91,
   "id": "d0e8fe84",
   "metadata": {},
   "outputs": [
    {
     "data": {
      "image/png": "[encoded data removed]",
      "text/plain": [
       "<Figure size 1500x900 with 2 Axes>"
      ]
     },
     "metadata": {},
     "output_type": "display_data"
    }
   ],
   "source": [
    "# matriz de correlação para o dataframe somente com os perdedores das partidas\n",
    "plt.figure(figsize=(15, 9))\n",
    "sns.heatmap(estatisticas_perdedores.corr(), annot = True)\n",
    "plt.title('Matriz de correlação entre as estatísticas')\n",
    "plt.xticks(rotation = 55)\n",
    "plt.show()"
   ]
  },
  {
   "cell_type": "markdown",
   "id": "02b84f9a",
   "metadata": {},
   "source": [
    "### Comparação das correlações"
   ]
  },
  {
   "cell_type": "markdown",
   "id": "54341525",
   "metadata": {},
   "source": [
    "### A matriz de correlação não indica causalidade, porém, pode nos revelar percepções interessantes.\n",
    "\n",
    "#### Como funciona: A correlaçao de Pearson varia entre -1 e 1, sendo que:\n",
    "\n",
    "#### Se = 1: Correlação perfeita\n",
    "#### Se = 0: Sem correlação linear\n",
    "#### Se = -1: Correlação negativa perfeita\n",
    "\n",
    "#### Ou seja, Um coeficiente de correlação igual a 1 indica uma correlação linear perfeita positiva, ou seja, quando uma variável aumenta, a outra variável também aumenta na mesma proporção.\n",
    "\n",
    "#### Um coeficiente de correlação igual a -1 indica uma correlação linear perfeita negativa, ou seja, quando uma variável aumenta, a outra variável diminui na mesma proporção.\n",
    "\n",
    "#### Um coeficiente de correlação igual a 0 sugere que não há correlação linear entre as duas variáveis."
   ]
  },
  {
   "cell_type": "markdown",
   "id": "2dee08af",
   "metadata": {},
   "source": [
    "### Insights:\n",
    "\n",
    "### 1: A forte corelação positiva (0,9) entre passes e posse de bola e passes e precisão de passes (0,83) nos times vencedores sugere que esses times possuem alta assertividade numa troca de passes dinâmica.\n",
    "\n",
    "### 2: Os times vencedores possuem correlação linear positiva entre as variáveis posse de bola e chutes (0,46) o que pode sugerir que arriscam mais em comparação com os times perdedores cuja correlação é -0,25.\n",
    "\n",
    "### 3: A correlação em variáveis improdutivas (faltas, cartões, impedimentos) é sempre menor nos times vencedores."
   ]
  },
  {
   "cell_type": "markdown",
   "id": "936c6d63",
   "metadata": {},
   "source": [
    "#### Para confirmar essas hipóteses seria necessário uma análise de causalidade, embora a correlção, nesse contexto,  pode ajudar a entender comportamentos intrínsecos e padrões de ambos os grupos (vencedores e perdedores) o que pode ser útil para formular estratégias. "
   ]
  },
  {
   "cell_type": "code",
   "execution_count": 99,
   "id": "496b9bd5",
   "metadata": {},
   "outputs": [
    {
     "data": {
      "image/png": "[encoded data removed]",
      "text/plain": [
       "<Figure size 500x500 with 1 Axes>"
      ]
     },
     "metadata": {},
     "output_type": "display_data"
    }
   ],
   "source": [
    "# demonstração gráfica de correlação\n",
    "sns.lmplot(data = estatisticas_vencedores, x='precisao_passes', y = 'posse_de_bola')\n",
    "plt.show()"
   ]
  },
  {
   "cell_type": "markdown",
   "id": "251470b0",
   "metadata": {},
   "source": [
    "# Fim"
   ]
  },
  {
   "cell_type": "markdown",
   "id": "4d7773b5",
   "metadata": {},
   "source": [
    "## Obrigado!"
   ]
  },
  {
   "cell_type": "code",
   "execution_count": null,
   "id": "eee2dc8f",
   "metadata": {},
   "outputs": [],
   "source": []
  }
 ],
 "metadata": {
  "kernelspec": {
   "display_name": "Python 3 (ipykernel)",
   "language": "python",
   "name": "python3"
  },
  "language_info": {
   "codemirror_mode": {
    "name": "ipython",
    "version": 3
   },
   "file_extension": ".py",
   "mimetype": "text/x-python",
   "name": "python",
   "nbconvert_exporter": "python",
   "pygments_lexer": "ipython3",
   "version": "3.9.13"
  }
 },
 "nbformat": 4,
 "nbformat_minor": 5
}
